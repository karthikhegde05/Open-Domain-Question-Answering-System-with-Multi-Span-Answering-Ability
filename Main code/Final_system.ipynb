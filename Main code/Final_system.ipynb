{
  "nbformat": 4,
  "nbformat_minor": 0,
  "metadata": {
    "colab": {
      "name": "Final_system.ipynb",
      "provenance": [],
      "collapsed_sections": []
    },
    "kernelspec": {
      "name": "python3",
      "display_name": "Python 3"
    },
    "language_info": {
      "name": "python"
    },
    "widgets": {
      "application/vnd.jupyter.widget-state+json": {
        "0816471ada8448deaf00cdb7350f9f54": {
          "model_module": "@jupyter-widgets/controls",
          "model_name": "HBoxModel",
          "state": {
            "_view_name": "HBoxView",
            "_dom_classes": [],
            "_model_name": "HBoxModel",
            "_view_module": "@jupyter-widgets/controls",
            "_model_module_version": "1.5.0",
            "_view_count": null,
            "_view_module_version": "1.5.0",
            "box_style": "",
            "layout": "IPY_MODEL_b5901f97944b43a7a333463f99cb5e49",
            "_model_module": "@jupyter-widgets/controls",
            "children": [
              "IPY_MODEL_617fd12b8e3846b2aca49a92e3620af5",
              "IPY_MODEL_6b2a8dcc590f4b40ba1ba70742fa8e49"
            ]
          }
        },
        "b5901f97944b43a7a333463f99cb5e49": {
          "model_module": "@jupyter-widgets/base",
          "model_name": "LayoutModel",
          "state": {
            "_view_name": "LayoutView",
            "grid_template_rows": null,
            "right": null,
            "justify_content": null,
            "_view_module": "@jupyter-widgets/base",
            "overflow": null,
            "_model_module_version": "1.2.0",
            "_view_count": null,
            "flex_flow": null,
            "width": null,
            "min_width": null,
            "border": null,
            "align_items": null,
            "bottom": null,
            "_model_module": "@jupyter-widgets/base",
            "top": null,
            "grid_column": null,
            "overflow_y": null,
            "overflow_x": null,
            "grid_auto_flow": null,
            "grid_area": null,
            "grid_template_columns": null,
            "flex": null,
            "_model_name": "LayoutModel",
            "justify_items": null,
            "grid_row": null,
            "max_height": null,
            "align_content": null,
            "visibility": null,
            "align_self": null,
            "height": null,
            "min_height": null,
            "padding": null,
            "grid_auto_rows": null,
            "grid_gap": null,
            "max_width": null,
            "order": null,
            "_view_module_version": "1.2.0",
            "grid_template_areas": null,
            "object_position": null,
            "object_fit": null,
            "grid_auto_columns": null,
            "margin": null,
            "display": null,
            "left": null
          }
        },
        "617fd12b8e3846b2aca49a92e3620af5": {
          "model_module": "@jupyter-widgets/controls",
          "model_name": "FloatProgressModel",
          "state": {
            "_view_name": "ProgressView",
            "style": "IPY_MODEL_a47f6a4986ba4900b0f6a98a765dc17d",
            "_dom_classes": [],
            "description": "Downloading: 100%",
            "_model_name": "FloatProgressModel",
            "bar_style": "success",
            "max": 231508,
            "_view_module": "@jupyter-widgets/controls",
            "_model_module_version": "1.5.0",
            "value": 231508,
            "_view_count": null,
            "_view_module_version": "1.5.0",
            "orientation": "horizontal",
            "min": 0,
            "description_tooltip": null,
            "_model_module": "@jupyter-widgets/controls",
            "layout": "IPY_MODEL_3e4aa08ef5f64713a6a1528546607763"
          }
        },
        "6b2a8dcc590f4b40ba1ba70742fa8e49": {
          "model_module": "@jupyter-widgets/controls",
          "model_name": "HTMLModel",
          "state": {
            "_view_name": "HTMLView",
            "style": "IPY_MODEL_c0b3dcd47b2c4020ad0b830dea8cc360",
            "_dom_classes": [],
            "description": "",
            "_model_name": "HTMLModel",
            "placeholder": "​",
            "_view_module": "@jupyter-widgets/controls",
            "_model_module_version": "1.5.0",
            "value": " 232k/232k [00:00&lt;00:00, 396kB/s]",
            "_view_count": null,
            "_view_module_version": "1.5.0",
            "description_tooltip": null,
            "_model_module": "@jupyter-widgets/controls",
            "layout": "IPY_MODEL_44b5976cad68452aa77de3aee58f77bd"
          }
        },
        "a47f6a4986ba4900b0f6a98a765dc17d": {
          "model_module": "@jupyter-widgets/controls",
          "model_name": "ProgressStyleModel",
          "state": {
            "_view_name": "StyleView",
            "_model_name": "ProgressStyleModel",
            "description_width": "initial",
            "_view_module": "@jupyter-widgets/base",
            "_model_module_version": "1.5.0",
            "_view_count": null,
            "_view_module_version": "1.2.0",
            "bar_color": null,
            "_model_module": "@jupyter-widgets/controls"
          }
        },
        "3e4aa08ef5f64713a6a1528546607763": {
          "model_module": "@jupyter-widgets/base",
          "model_name": "LayoutModel",
          "state": {
            "_view_name": "LayoutView",
            "grid_template_rows": null,
            "right": null,
            "justify_content": null,
            "_view_module": "@jupyter-widgets/base",
            "overflow": null,
            "_model_module_version": "1.2.0",
            "_view_count": null,
            "flex_flow": null,
            "width": null,
            "min_width": null,
            "border": null,
            "align_items": null,
            "bottom": null,
            "_model_module": "@jupyter-widgets/base",
            "top": null,
            "grid_column": null,
            "overflow_y": null,
            "overflow_x": null,
            "grid_auto_flow": null,
            "grid_area": null,
            "grid_template_columns": null,
            "flex": null,
            "_model_name": "LayoutModel",
            "justify_items": null,
            "grid_row": null,
            "max_height": null,
            "align_content": null,
            "visibility": null,
            "align_self": null,
            "height": null,
            "min_height": null,
            "padding": null,
            "grid_auto_rows": null,
            "grid_gap": null,
            "max_width": null,
            "order": null,
            "_view_module_version": "1.2.0",
            "grid_template_areas": null,
            "object_position": null,
            "object_fit": null,
            "grid_auto_columns": null,
            "margin": null,
            "display": null,
            "left": null
          }
        },
        "c0b3dcd47b2c4020ad0b830dea8cc360": {
          "model_module": "@jupyter-widgets/controls",
          "model_name": "DescriptionStyleModel",
          "state": {
            "_view_name": "StyleView",
            "_model_name": "DescriptionStyleModel",
            "description_width": "",
            "_view_module": "@jupyter-widgets/base",
            "_model_module_version": "1.5.0",
            "_view_count": null,
            "_view_module_version": "1.2.0",
            "_model_module": "@jupyter-widgets/controls"
          }
        },
        "44b5976cad68452aa77de3aee58f77bd": {
          "model_module": "@jupyter-widgets/base",
          "model_name": "LayoutModel",
          "state": {
            "_view_name": "LayoutView",
            "grid_template_rows": null,
            "right": null,
            "justify_content": null,
            "_view_module": "@jupyter-widgets/base",
            "overflow": null,
            "_model_module_version": "1.2.0",
            "_view_count": null,
            "flex_flow": null,
            "width": null,
            "min_width": null,
            "border": null,
            "align_items": null,
            "bottom": null,
            "_model_module": "@jupyter-widgets/base",
            "top": null,
            "grid_column": null,
            "overflow_y": null,
            "overflow_x": null,
            "grid_auto_flow": null,
            "grid_area": null,
            "grid_template_columns": null,
            "flex": null,
            "_model_name": "LayoutModel",
            "justify_items": null,
            "grid_row": null,
            "max_height": null,
            "align_content": null,
            "visibility": null,
            "align_self": null,
            "height": null,
            "min_height": null,
            "padding": null,
            "grid_auto_rows": null,
            "grid_gap": null,
            "max_width": null,
            "order": null,
            "_view_module_version": "1.2.0",
            "grid_template_areas": null,
            "object_position": null,
            "object_fit": null,
            "grid_auto_columns": null,
            "margin": null,
            "display": null,
            "left": null
          }
        },
        "5d1db8e22e164a948dd00073954fcceb": {
          "model_module": "@jupyter-widgets/controls",
          "model_name": "HBoxModel",
          "state": {
            "_view_name": "HBoxView",
            "_dom_classes": [],
            "_model_name": "HBoxModel",
            "_view_module": "@jupyter-widgets/controls",
            "_model_module_version": "1.5.0",
            "_view_count": null,
            "_view_module_version": "1.5.0",
            "box_style": "",
            "layout": "IPY_MODEL_ac6ffc42299e458db7b38d6274bcf91b",
            "_model_module": "@jupyter-widgets/controls",
            "children": [
              "IPY_MODEL_fbc83675688f45b1970e78ffad99baa9",
              "IPY_MODEL_ae9aba8902d041a2958611eb8e4686a3"
            ]
          }
        },
        "ac6ffc42299e458db7b38d6274bcf91b": {
          "model_module": "@jupyter-widgets/base",
          "model_name": "LayoutModel",
          "state": {
            "_view_name": "LayoutView",
            "grid_template_rows": null,
            "right": null,
            "justify_content": null,
            "_view_module": "@jupyter-widgets/base",
            "overflow": null,
            "_model_module_version": "1.2.0",
            "_view_count": null,
            "flex_flow": null,
            "width": null,
            "min_width": null,
            "border": null,
            "align_items": null,
            "bottom": null,
            "_model_module": "@jupyter-widgets/base",
            "top": null,
            "grid_column": null,
            "overflow_y": null,
            "overflow_x": null,
            "grid_auto_flow": null,
            "grid_area": null,
            "grid_template_columns": null,
            "flex": null,
            "_model_name": "LayoutModel",
            "justify_items": null,
            "grid_row": null,
            "max_height": null,
            "align_content": null,
            "visibility": null,
            "align_self": null,
            "height": null,
            "min_height": null,
            "padding": null,
            "grid_auto_rows": null,
            "grid_gap": null,
            "max_width": null,
            "order": null,
            "_view_module_version": "1.2.0",
            "grid_template_areas": null,
            "object_position": null,
            "object_fit": null,
            "grid_auto_columns": null,
            "margin": null,
            "display": null,
            "left": null
          }
        },
        "fbc83675688f45b1970e78ffad99baa9": {
          "model_module": "@jupyter-widgets/controls",
          "model_name": "FloatProgressModel",
          "state": {
            "_view_name": "ProgressView",
            "style": "IPY_MODEL_38e70e84d78b41acb5e958b5e573a8bf",
            "_dom_classes": [],
            "description": "Downloading: 100%",
            "_model_name": "FloatProgressModel",
            "bar_style": "success",
            "max": 28,
            "_view_module": "@jupyter-widgets/controls",
            "_model_module_version": "1.5.0",
            "value": 28,
            "_view_count": null,
            "_view_module_version": "1.5.0",
            "orientation": "horizontal",
            "min": 0,
            "description_tooltip": null,
            "_model_module": "@jupyter-widgets/controls",
            "layout": "IPY_MODEL_d818d4f32a8148ef841cceb70283466f"
          }
        },
        "ae9aba8902d041a2958611eb8e4686a3": {
          "model_module": "@jupyter-widgets/controls",
          "model_name": "HTMLModel",
          "state": {
            "_view_name": "HTMLView",
            "style": "IPY_MODEL_f10b2eb1f61243299e194abe97447f3b",
            "_dom_classes": [],
            "description": "",
            "_model_name": "HTMLModel",
            "placeholder": "​",
            "_view_module": "@jupyter-widgets/controls",
            "_model_module_version": "1.5.0",
            "value": " 28.0/28.0 [00:00&lt;00:00, 91.9B/s]",
            "_view_count": null,
            "_view_module_version": "1.5.0",
            "description_tooltip": null,
            "_model_module": "@jupyter-widgets/controls",
            "layout": "IPY_MODEL_93632edd73d44442b83eef1d222ba778"
          }
        },
        "38e70e84d78b41acb5e958b5e573a8bf": {
          "model_module": "@jupyter-widgets/controls",
          "model_name": "ProgressStyleModel",
          "state": {
            "_view_name": "StyleView",
            "_model_name": "ProgressStyleModel",
            "description_width": "initial",
            "_view_module": "@jupyter-widgets/base",
            "_model_module_version": "1.5.0",
            "_view_count": null,
            "_view_module_version": "1.2.0",
            "bar_color": null,
            "_model_module": "@jupyter-widgets/controls"
          }
        },
        "d818d4f32a8148ef841cceb70283466f": {
          "model_module": "@jupyter-widgets/base",
          "model_name": "LayoutModel",
          "state": {
            "_view_name": "LayoutView",
            "grid_template_rows": null,
            "right": null,
            "justify_content": null,
            "_view_module": "@jupyter-widgets/base",
            "overflow": null,
            "_model_module_version": "1.2.0",
            "_view_count": null,
            "flex_flow": null,
            "width": null,
            "min_width": null,
            "border": null,
            "align_items": null,
            "bottom": null,
            "_model_module": "@jupyter-widgets/base",
            "top": null,
            "grid_column": null,
            "overflow_y": null,
            "overflow_x": null,
            "grid_auto_flow": null,
            "grid_area": null,
            "grid_template_columns": null,
            "flex": null,
            "_model_name": "LayoutModel",
            "justify_items": null,
            "grid_row": null,
            "max_height": null,
            "align_content": null,
            "visibility": null,
            "align_self": null,
            "height": null,
            "min_height": null,
            "padding": null,
            "grid_auto_rows": null,
            "grid_gap": null,
            "max_width": null,
            "order": null,
            "_view_module_version": "1.2.0",
            "grid_template_areas": null,
            "object_position": null,
            "object_fit": null,
            "grid_auto_columns": null,
            "margin": null,
            "display": null,
            "left": null
          }
        },
        "f10b2eb1f61243299e194abe97447f3b": {
          "model_module": "@jupyter-widgets/controls",
          "model_name": "DescriptionStyleModel",
          "state": {
            "_view_name": "StyleView",
            "_model_name": "DescriptionStyleModel",
            "description_width": "",
            "_view_module": "@jupyter-widgets/base",
            "_model_module_version": "1.5.0",
            "_view_count": null,
            "_view_module_version": "1.2.0",
            "_model_module": "@jupyter-widgets/controls"
          }
        },
        "93632edd73d44442b83eef1d222ba778": {
          "model_module": "@jupyter-widgets/base",
          "model_name": "LayoutModel",
          "state": {
            "_view_name": "LayoutView",
            "grid_template_rows": null,
            "right": null,
            "justify_content": null,
            "_view_module": "@jupyter-widgets/base",
            "overflow": null,
            "_model_module_version": "1.2.0",
            "_view_count": null,
            "flex_flow": null,
            "width": null,
            "min_width": null,
            "border": null,
            "align_items": null,
            "bottom": null,
            "_model_module": "@jupyter-widgets/base",
            "top": null,
            "grid_column": null,
            "overflow_y": null,
            "overflow_x": null,
            "grid_auto_flow": null,
            "grid_area": null,
            "grid_template_columns": null,
            "flex": null,
            "_model_name": "LayoutModel",
            "justify_items": null,
            "grid_row": null,
            "max_height": null,
            "align_content": null,
            "visibility": null,
            "align_self": null,
            "height": null,
            "min_height": null,
            "padding": null,
            "grid_auto_rows": null,
            "grid_gap": null,
            "max_width": null,
            "order": null,
            "_view_module_version": "1.2.0",
            "grid_template_areas": null,
            "object_position": null,
            "object_fit": null,
            "grid_auto_columns": null,
            "margin": null,
            "display": null,
            "left": null
          }
        },
        "4d370b4b021348ba92acbb87c20ed046": {
          "model_module": "@jupyter-widgets/controls",
          "model_name": "HBoxModel",
          "state": {
            "_view_name": "HBoxView",
            "_dom_classes": [],
            "_model_name": "HBoxModel",
            "_view_module": "@jupyter-widgets/controls",
            "_model_module_version": "1.5.0",
            "_view_count": null,
            "_view_module_version": "1.5.0",
            "box_style": "",
            "layout": "IPY_MODEL_0a8e26129d8844b7b0beb96f793b9046",
            "_model_module": "@jupyter-widgets/controls",
            "children": [
              "IPY_MODEL_e46a131e9a804ef389daff48f775ebf1",
              "IPY_MODEL_8ec14a42cc62405baa2c0147223526cc"
            ]
          }
        },
        "0a8e26129d8844b7b0beb96f793b9046": {
          "model_module": "@jupyter-widgets/base",
          "model_name": "LayoutModel",
          "state": {
            "_view_name": "LayoutView",
            "grid_template_rows": null,
            "right": null,
            "justify_content": null,
            "_view_module": "@jupyter-widgets/base",
            "overflow": null,
            "_model_module_version": "1.2.0",
            "_view_count": null,
            "flex_flow": null,
            "width": null,
            "min_width": null,
            "border": null,
            "align_items": null,
            "bottom": null,
            "_model_module": "@jupyter-widgets/base",
            "top": null,
            "grid_column": null,
            "overflow_y": null,
            "overflow_x": null,
            "grid_auto_flow": null,
            "grid_area": null,
            "grid_template_columns": null,
            "flex": null,
            "_model_name": "LayoutModel",
            "justify_items": null,
            "grid_row": null,
            "max_height": null,
            "align_content": null,
            "visibility": null,
            "align_self": null,
            "height": null,
            "min_height": null,
            "padding": null,
            "grid_auto_rows": null,
            "grid_gap": null,
            "max_width": null,
            "order": null,
            "_view_module_version": "1.2.0",
            "grid_template_areas": null,
            "object_position": null,
            "object_fit": null,
            "grid_auto_columns": null,
            "margin": null,
            "display": null,
            "left": null
          }
        },
        "e46a131e9a804ef389daff48f775ebf1": {
          "model_module": "@jupyter-widgets/controls",
          "model_name": "FloatProgressModel",
          "state": {
            "_view_name": "ProgressView",
            "style": "IPY_MODEL_67ac3fd051ca4e599c2efad618d1a3c5",
            "_dom_classes": [],
            "description": "Downloading: 100%",
            "_model_name": "FloatProgressModel",
            "bar_style": "success",
            "max": 466062,
            "_view_module": "@jupyter-widgets/controls",
            "_model_module_version": "1.5.0",
            "value": 466062,
            "_view_count": null,
            "_view_module_version": "1.5.0",
            "orientation": "horizontal",
            "min": 0,
            "description_tooltip": null,
            "_model_module": "@jupyter-widgets/controls",
            "layout": "IPY_MODEL_a605f1be62764dc6a6d9edf6dc3f19e5"
          }
        },
        "8ec14a42cc62405baa2c0147223526cc": {
          "model_module": "@jupyter-widgets/controls",
          "model_name": "HTMLModel",
          "state": {
            "_view_name": "HTMLView",
            "style": "IPY_MODEL_38147ceb33e24795bcc4e1c7983dcff6",
            "_dom_classes": [],
            "description": "",
            "_model_name": "HTMLModel",
            "placeholder": "​",
            "_view_module": "@jupyter-widgets/controls",
            "_model_module_version": "1.5.0",
            "value": " 466k/466k [00:00&lt;00:00, 3.68MB/s]",
            "_view_count": null,
            "_view_module_version": "1.5.0",
            "description_tooltip": null,
            "_model_module": "@jupyter-widgets/controls",
            "layout": "IPY_MODEL_868786a33cef4ce6aff1a8645e12ad48"
          }
        },
        "67ac3fd051ca4e599c2efad618d1a3c5": {
          "model_module": "@jupyter-widgets/controls",
          "model_name": "ProgressStyleModel",
          "state": {
            "_view_name": "StyleView",
            "_model_name": "ProgressStyleModel",
            "description_width": "initial",
            "_view_module": "@jupyter-widgets/base",
            "_model_module_version": "1.5.0",
            "_view_count": null,
            "_view_module_version": "1.2.0",
            "bar_color": null,
            "_model_module": "@jupyter-widgets/controls"
          }
        },
        "a605f1be62764dc6a6d9edf6dc3f19e5": {
          "model_module": "@jupyter-widgets/base",
          "model_name": "LayoutModel",
          "state": {
            "_view_name": "LayoutView",
            "grid_template_rows": null,
            "right": null,
            "justify_content": null,
            "_view_module": "@jupyter-widgets/base",
            "overflow": null,
            "_model_module_version": "1.2.0",
            "_view_count": null,
            "flex_flow": null,
            "width": null,
            "min_width": null,
            "border": null,
            "align_items": null,
            "bottom": null,
            "_model_module": "@jupyter-widgets/base",
            "top": null,
            "grid_column": null,
            "overflow_y": null,
            "overflow_x": null,
            "grid_auto_flow": null,
            "grid_area": null,
            "grid_template_columns": null,
            "flex": null,
            "_model_name": "LayoutModel",
            "justify_items": null,
            "grid_row": null,
            "max_height": null,
            "align_content": null,
            "visibility": null,
            "align_self": null,
            "height": null,
            "min_height": null,
            "padding": null,
            "grid_auto_rows": null,
            "grid_gap": null,
            "max_width": null,
            "order": null,
            "_view_module_version": "1.2.0",
            "grid_template_areas": null,
            "object_position": null,
            "object_fit": null,
            "grid_auto_columns": null,
            "margin": null,
            "display": null,
            "left": null
          }
        },
        "38147ceb33e24795bcc4e1c7983dcff6": {
          "model_module": "@jupyter-widgets/controls",
          "model_name": "DescriptionStyleModel",
          "state": {
            "_view_name": "StyleView",
            "_model_name": "DescriptionStyleModel",
            "description_width": "",
            "_view_module": "@jupyter-widgets/base",
            "_model_module_version": "1.5.0",
            "_view_count": null,
            "_view_module_version": "1.2.0",
            "_model_module": "@jupyter-widgets/controls"
          }
        },
        "868786a33cef4ce6aff1a8645e12ad48": {
          "model_module": "@jupyter-widgets/base",
          "model_name": "LayoutModel",
          "state": {
            "_view_name": "LayoutView",
            "grid_template_rows": null,
            "right": null,
            "justify_content": null,
            "_view_module": "@jupyter-widgets/base",
            "overflow": null,
            "_model_module_version": "1.2.0",
            "_view_count": null,
            "flex_flow": null,
            "width": null,
            "min_width": null,
            "border": null,
            "align_items": null,
            "bottom": null,
            "_model_module": "@jupyter-widgets/base",
            "top": null,
            "grid_column": null,
            "overflow_y": null,
            "overflow_x": null,
            "grid_auto_flow": null,
            "grid_area": null,
            "grid_template_columns": null,
            "flex": null,
            "_model_name": "LayoutModel",
            "justify_items": null,
            "grid_row": null,
            "max_height": null,
            "align_content": null,
            "visibility": null,
            "align_self": null,
            "height": null,
            "min_height": null,
            "padding": null,
            "grid_auto_rows": null,
            "grid_gap": null,
            "max_width": null,
            "order": null,
            "_view_module_version": "1.2.0",
            "grid_template_areas": null,
            "object_position": null,
            "object_fit": null,
            "grid_auto_columns": null,
            "margin": null,
            "display": null,
            "left": null
          }
        },
        "5b27ccf1d51742d4b5674feb5bfc4e46": {
          "model_module": "@jupyter-widgets/controls",
          "model_name": "HBoxModel",
          "state": {
            "_view_name": "HBoxView",
            "_dom_classes": [],
            "_model_name": "HBoxModel",
            "_view_module": "@jupyter-widgets/controls",
            "_model_module_version": "1.5.0",
            "_view_count": null,
            "_view_module_version": "1.5.0",
            "box_style": "",
            "layout": "IPY_MODEL_bc566eef7dd84dbfb2870847e4cbe383",
            "_model_module": "@jupyter-widgets/controls",
            "children": [
              "IPY_MODEL_37167dd62475469082fb976af3ba36e0",
              "IPY_MODEL_959ad037ec4c4132bab4afffe44c28ee"
            ]
          }
        },
        "bc566eef7dd84dbfb2870847e4cbe383": {
          "model_module": "@jupyter-widgets/base",
          "model_name": "LayoutModel",
          "state": {
            "_view_name": "LayoutView",
            "grid_template_rows": null,
            "right": null,
            "justify_content": null,
            "_view_module": "@jupyter-widgets/base",
            "overflow": null,
            "_model_module_version": "1.2.0",
            "_view_count": null,
            "flex_flow": null,
            "width": null,
            "min_width": null,
            "border": null,
            "align_items": null,
            "bottom": null,
            "_model_module": "@jupyter-widgets/base",
            "top": null,
            "grid_column": null,
            "overflow_y": null,
            "overflow_x": null,
            "grid_auto_flow": null,
            "grid_area": null,
            "grid_template_columns": null,
            "flex": null,
            "_model_name": "LayoutModel",
            "justify_items": null,
            "grid_row": null,
            "max_height": null,
            "align_content": null,
            "visibility": null,
            "align_self": null,
            "height": null,
            "min_height": null,
            "padding": null,
            "grid_auto_rows": null,
            "grid_gap": null,
            "max_width": null,
            "order": null,
            "_view_module_version": "1.2.0",
            "grid_template_areas": null,
            "object_position": null,
            "object_fit": null,
            "grid_auto_columns": null,
            "margin": null,
            "display": null,
            "left": null
          }
        },
        "37167dd62475469082fb976af3ba36e0": {
          "model_module": "@jupyter-widgets/controls",
          "model_name": "FloatProgressModel",
          "state": {
            "_view_name": "ProgressView",
            "style": "IPY_MODEL_df148f26ac6447e49eec0b7f09b374d8",
            "_dom_classes": [],
            "description": "Downloading: 100%",
            "_model_name": "FloatProgressModel",
            "bar_style": "success",
            "max": 570,
            "_view_module": "@jupyter-widgets/controls",
            "_model_module_version": "1.5.0",
            "value": 570,
            "_view_count": null,
            "_view_module_version": "1.5.0",
            "orientation": "horizontal",
            "min": 0,
            "description_tooltip": null,
            "_model_module": "@jupyter-widgets/controls",
            "layout": "IPY_MODEL_b23dcbb67a2645e48f6f8b9b392a113c"
          }
        },
        "959ad037ec4c4132bab4afffe44c28ee": {
          "model_module": "@jupyter-widgets/controls",
          "model_name": "HTMLModel",
          "state": {
            "_view_name": "HTMLView",
            "style": "IPY_MODEL_e3bf57ad4518415f97cdfddff0d7f9a7",
            "_dom_classes": [],
            "description": "",
            "_model_name": "HTMLModel",
            "placeholder": "​",
            "_view_module": "@jupyter-widgets/controls",
            "_model_module_version": "1.5.0",
            "value": " 570/570 [00:12&lt;00:00, 45.4B/s]",
            "_view_count": null,
            "_view_module_version": "1.5.0",
            "description_tooltip": null,
            "_model_module": "@jupyter-widgets/controls",
            "layout": "IPY_MODEL_be945f4f51e642eb90cd72787c7fd4a7"
          }
        },
        "df148f26ac6447e49eec0b7f09b374d8": {
          "model_module": "@jupyter-widgets/controls",
          "model_name": "ProgressStyleModel",
          "state": {
            "_view_name": "StyleView",
            "_model_name": "ProgressStyleModel",
            "description_width": "initial",
            "_view_module": "@jupyter-widgets/base",
            "_model_module_version": "1.5.0",
            "_view_count": null,
            "_view_module_version": "1.2.0",
            "bar_color": null,
            "_model_module": "@jupyter-widgets/controls"
          }
        },
        "b23dcbb67a2645e48f6f8b9b392a113c": {
          "model_module": "@jupyter-widgets/base",
          "model_name": "LayoutModel",
          "state": {
            "_view_name": "LayoutView",
            "grid_template_rows": null,
            "right": null,
            "justify_content": null,
            "_view_module": "@jupyter-widgets/base",
            "overflow": null,
            "_model_module_version": "1.2.0",
            "_view_count": null,
            "flex_flow": null,
            "width": null,
            "min_width": null,
            "border": null,
            "align_items": null,
            "bottom": null,
            "_model_module": "@jupyter-widgets/base",
            "top": null,
            "grid_column": null,
            "overflow_y": null,
            "overflow_x": null,
            "grid_auto_flow": null,
            "grid_area": null,
            "grid_template_columns": null,
            "flex": null,
            "_model_name": "LayoutModel",
            "justify_items": null,
            "grid_row": null,
            "max_height": null,
            "align_content": null,
            "visibility": null,
            "align_self": null,
            "height": null,
            "min_height": null,
            "padding": null,
            "grid_auto_rows": null,
            "grid_gap": null,
            "max_width": null,
            "order": null,
            "_view_module_version": "1.2.0",
            "grid_template_areas": null,
            "object_position": null,
            "object_fit": null,
            "grid_auto_columns": null,
            "margin": null,
            "display": null,
            "left": null
          }
        },
        "e3bf57ad4518415f97cdfddff0d7f9a7": {
          "model_module": "@jupyter-widgets/controls",
          "model_name": "DescriptionStyleModel",
          "state": {
            "_view_name": "StyleView",
            "_model_name": "DescriptionStyleModel",
            "description_width": "",
            "_view_module": "@jupyter-widgets/base",
            "_model_module_version": "1.5.0",
            "_view_count": null,
            "_view_module_version": "1.2.0",
            "_model_module": "@jupyter-widgets/controls"
          }
        },
        "be945f4f51e642eb90cd72787c7fd4a7": {
          "model_module": "@jupyter-widgets/base",
          "model_name": "LayoutModel",
          "state": {
            "_view_name": "LayoutView",
            "grid_template_rows": null,
            "right": null,
            "justify_content": null,
            "_view_module": "@jupyter-widgets/base",
            "overflow": null,
            "_model_module_version": "1.2.0",
            "_view_count": null,
            "flex_flow": null,
            "width": null,
            "min_width": null,
            "border": null,
            "align_items": null,
            "bottom": null,
            "_model_module": "@jupyter-widgets/base",
            "top": null,
            "grid_column": null,
            "overflow_y": null,
            "overflow_x": null,
            "grid_auto_flow": null,
            "grid_area": null,
            "grid_template_columns": null,
            "flex": null,
            "_model_name": "LayoutModel",
            "justify_items": null,
            "grid_row": null,
            "max_height": null,
            "align_content": null,
            "visibility": null,
            "align_self": null,
            "height": null,
            "min_height": null,
            "padding": null,
            "grid_auto_rows": null,
            "grid_gap": null,
            "max_width": null,
            "order": null,
            "_view_module_version": "1.2.0",
            "grid_template_areas": null,
            "object_position": null,
            "object_fit": null,
            "grid_auto_columns": null,
            "margin": null,
            "display": null,
            "left": null
          }
        },
        "aac0f52b5853410b86c55b20d684354c": {
          "model_module": "@jupyter-widgets/controls",
          "model_name": "HBoxModel",
          "state": {
            "_view_name": "HBoxView",
            "_dom_classes": [],
            "_model_name": "HBoxModel",
            "_view_module": "@jupyter-widgets/controls",
            "_model_module_version": "1.5.0",
            "_view_count": null,
            "_view_module_version": "1.5.0",
            "box_style": "",
            "layout": "IPY_MODEL_47a04da6aa71442fbc9563730dfe458f",
            "_model_module": "@jupyter-widgets/controls",
            "children": [
              "IPY_MODEL_071b214e5ad44670a5a9e26c6ec21155",
              "IPY_MODEL_56beaa2eb9c043ab99882661e08b2df6"
            ]
          }
        },
        "47a04da6aa71442fbc9563730dfe458f": {
          "model_module": "@jupyter-widgets/base",
          "model_name": "LayoutModel",
          "state": {
            "_view_name": "LayoutView",
            "grid_template_rows": null,
            "right": null,
            "justify_content": null,
            "_view_module": "@jupyter-widgets/base",
            "overflow": null,
            "_model_module_version": "1.2.0",
            "_view_count": null,
            "flex_flow": null,
            "width": null,
            "min_width": null,
            "border": null,
            "align_items": null,
            "bottom": null,
            "_model_module": "@jupyter-widgets/base",
            "top": null,
            "grid_column": null,
            "overflow_y": null,
            "overflow_x": null,
            "grid_auto_flow": null,
            "grid_area": null,
            "grid_template_columns": null,
            "flex": null,
            "_model_name": "LayoutModel",
            "justify_items": null,
            "grid_row": null,
            "max_height": null,
            "align_content": null,
            "visibility": null,
            "align_self": null,
            "height": null,
            "min_height": null,
            "padding": null,
            "grid_auto_rows": null,
            "grid_gap": null,
            "max_width": null,
            "order": null,
            "_view_module_version": "1.2.0",
            "grid_template_areas": null,
            "object_position": null,
            "object_fit": null,
            "grid_auto_columns": null,
            "margin": null,
            "display": null,
            "left": null
          }
        },
        "071b214e5ad44670a5a9e26c6ec21155": {
          "model_module": "@jupyter-widgets/controls",
          "model_name": "FloatProgressModel",
          "state": {
            "_view_name": "ProgressView",
            "style": "IPY_MODEL_c8fa7caea50045f9ac4619014afb6152",
            "_dom_classes": [],
            "description": "Downloading: 100%",
            "_model_name": "FloatProgressModel",
            "bar_style": "success",
            "max": 536063208,
            "_view_module": "@jupyter-widgets/controls",
            "_model_module_version": "1.5.0",
            "value": 536063208,
            "_view_count": null,
            "_view_module_version": "1.5.0",
            "orientation": "horizontal",
            "min": 0,
            "description_tooltip": null,
            "_model_module": "@jupyter-widgets/controls",
            "layout": "IPY_MODEL_743f8aee99a442ca865e972b621cd9b1"
          }
        },
        "56beaa2eb9c043ab99882661e08b2df6": {
          "model_module": "@jupyter-widgets/controls",
          "model_name": "HTMLModel",
          "state": {
            "_view_name": "HTMLView",
            "style": "IPY_MODEL_d21d198087e348d296c0ca1147a4ab47",
            "_dom_classes": [],
            "description": "",
            "_model_name": "HTMLModel",
            "placeholder": "​",
            "_view_module": "@jupyter-widgets/controls",
            "_model_module_version": "1.5.0",
            "value": " 536M/536M [00:12&lt;00:00, 44.6MB/s]",
            "_view_count": null,
            "_view_module_version": "1.5.0",
            "description_tooltip": null,
            "_model_module": "@jupyter-widgets/controls",
            "layout": "IPY_MODEL_87df066abc8a4b3da6186fbb4bf14a2d"
          }
        },
        "c8fa7caea50045f9ac4619014afb6152": {
          "model_module": "@jupyter-widgets/controls",
          "model_name": "ProgressStyleModel",
          "state": {
            "_view_name": "StyleView",
            "_model_name": "ProgressStyleModel",
            "description_width": "initial",
            "_view_module": "@jupyter-widgets/base",
            "_model_module_version": "1.5.0",
            "_view_count": null,
            "_view_module_version": "1.2.0",
            "bar_color": null,
            "_model_module": "@jupyter-widgets/controls"
          }
        },
        "743f8aee99a442ca865e972b621cd9b1": {
          "model_module": "@jupyter-widgets/base",
          "model_name": "LayoutModel",
          "state": {
            "_view_name": "LayoutView",
            "grid_template_rows": null,
            "right": null,
            "justify_content": null,
            "_view_module": "@jupyter-widgets/base",
            "overflow": null,
            "_model_module_version": "1.2.0",
            "_view_count": null,
            "flex_flow": null,
            "width": null,
            "min_width": null,
            "border": null,
            "align_items": null,
            "bottom": null,
            "_model_module": "@jupyter-widgets/base",
            "top": null,
            "grid_column": null,
            "overflow_y": null,
            "overflow_x": null,
            "grid_auto_flow": null,
            "grid_area": null,
            "grid_template_columns": null,
            "flex": null,
            "_model_name": "LayoutModel",
            "justify_items": null,
            "grid_row": null,
            "max_height": null,
            "align_content": null,
            "visibility": null,
            "align_self": null,
            "height": null,
            "min_height": null,
            "padding": null,
            "grid_auto_rows": null,
            "grid_gap": null,
            "max_width": null,
            "order": null,
            "_view_module_version": "1.2.0",
            "grid_template_areas": null,
            "object_position": null,
            "object_fit": null,
            "grid_auto_columns": null,
            "margin": null,
            "display": null,
            "left": null
          }
        },
        "d21d198087e348d296c0ca1147a4ab47": {
          "model_module": "@jupyter-widgets/controls",
          "model_name": "DescriptionStyleModel",
          "state": {
            "_view_name": "StyleView",
            "_model_name": "DescriptionStyleModel",
            "description_width": "",
            "_view_module": "@jupyter-widgets/base",
            "_model_module_version": "1.5.0",
            "_view_count": null,
            "_view_module_version": "1.2.0",
            "_model_module": "@jupyter-widgets/controls"
          }
        },
        "87df066abc8a4b3da6186fbb4bf14a2d": {
          "model_module": "@jupyter-widgets/base",
          "model_name": "LayoutModel",
          "state": {
            "_view_name": "LayoutView",
            "grid_template_rows": null,
            "right": null,
            "justify_content": null,
            "_view_module": "@jupyter-widgets/base",
            "overflow": null,
            "_model_module_version": "1.2.0",
            "_view_count": null,
            "flex_flow": null,
            "width": null,
            "min_width": null,
            "border": null,
            "align_items": null,
            "bottom": null,
            "_model_module": "@jupyter-widgets/base",
            "top": null,
            "grid_column": null,
            "overflow_y": null,
            "overflow_x": null,
            "grid_auto_flow": null,
            "grid_area": null,
            "grid_template_columns": null,
            "flex": null,
            "_model_name": "LayoutModel",
            "justify_items": null,
            "grid_row": null,
            "max_height": null,
            "align_content": null,
            "visibility": null,
            "align_self": null,
            "height": null,
            "min_height": null,
            "padding": null,
            "grid_auto_rows": null,
            "grid_gap": null,
            "max_width": null,
            "order": null,
            "_view_module_version": "1.2.0",
            "grid_template_areas": null,
            "object_position": null,
            "object_fit": null,
            "grid_auto_columns": null,
            "margin": null,
            "display": null,
            "left": null
          }
        }
      }
    }
  },
  "cells": [
    {
      "cell_type": "code",
      "metadata": {
        "colab": {
          "base_uri": "https://localhost:8080/"
        },
        "id": "5BT1cOzmGEv8",
        "outputId": "0650e00f-a753-4712-e3ba-8dbc1bf01c73"
      },
      "source": [
        "import json\n",
        "from tensorflow import keras\n",
        "\n",
        "eval_data_url = \"https://rajpurkar.github.io/SQuAD-explorer/dataset/dev-v1.1.json\"\n",
        "eval_path = keras.utils.get_file(\"eval.json\", eval_data_url)\n",
        "\n",
        "\n",
        "with open(eval_path) as f:\n",
        "    raw_eval_data = json.load(f)"
      ],
      "execution_count": null,
      "outputs": [
        {
          "output_type": "stream",
          "text": [
            "Downloading data from https://rajpurkar.github.io/SQuAD-explorer/dataset/dev-v1.1.json\n",
            "4857856/4854279 [==============================] - 0s 0us/step\n"
          ],
          "name": "stdout"
        }
      ]
    },
    {
      "cell_type": "code",
      "metadata": {
        "id": "cki3g0FFIufm"
      },
      "source": [
        "corpus = []\n",
        "\n",
        "for i in range( len(raw_eval_data[\"data\"]) ):\n",
        "    for j in range( len(raw_eval_data[\"data\"][i][\"paragraphs\"])):\n",
        "\n",
        "        corpus.append(raw_eval_data[\"data\"][i][\"paragraphs\"][j][\"context\"])\n",
        "        "
      ],
      "execution_count": null,
      "outputs": []
    },
    {
      "cell_type": "code",
      "metadata": {
        "id": "xRajVWO6JafW"
      },
      "source": [
        "import spacy\n",
        "spcy = spacy.load('en_core_web_sm')"
      ],
      "execution_count": null,
      "outputs": []
    },
    {
      "cell_type": "code",
      "metadata": {
        "id": "8TWWqFPDJci0"
      },
      "source": [
        "import re\n",
        "\n",
        "def preprocess(string):\n",
        "\n",
        "    sentence = string.lower() \n",
        "\n",
        "    sentence = re.sub('[^a-z]',' ',sentence )\n",
        "    sentence = re.sub(' +',' ',sentence)\n",
        "\n",
        "    sentence = spcy(sentence)\n",
        "\n",
        "    token_list = []\n",
        "\n",
        "    for token in sentence:\n",
        "        token_list.append(token)\n",
        "\n",
        "    sentence = ([token.lemma_.lower() for token in token_list])\n",
        "\n",
        "    return sentence"
      ],
      "execution_count": null,
      "outputs": []
    },
    {
      "cell_type": "code",
      "metadata": {
        "id": "3-5mNul4K12U"
      },
      "source": [
        "processed = []\n",
        "\n",
        "for i in corpus:\n",
        "    processed.append(preprocess(i))"
      ],
      "execution_count": null,
      "outputs": []
    },
    {
      "cell_type": "code",
      "metadata": {
        "colab": {
          "base_uri": "https://localhost:8080/"
        },
        "id": "2AkImYOAK-gB",
        "outputId": "30a8e0b8-1677-49df-8288-d9e668d99e0a"
      },
      "source": [
        "!pip install rank_bm25\n",
        "\n",
        "from rank_bm25 import BM25Okapi\n",
        "\n",
        "bm25 = BM25Okapi(processed)"
      ],
      "execution_count": null,
      "outputs": [
        {
          "output_type": "stream",
          "text": [
            "Collecting rank_bm25\n",
            "  Downloading https://files.pythonhosted.org/packages/16/5a/23ed3132063a0684ea66fb410260c71c4ffda3b99f8f1c021d1e245401b5/rank_bm25-0.2.1-py3-none-any.whl\n",
            "Requirement already satisfied: numpy in /usr/local/lib/python3.7/dist-packages (from rank_bm25) (1.19.5)\n",
            "Installing collected packages: rank-bm25\n",
            "Successfully installed rank-bm25-0.2.1\n"
          ],
          "name": "stdout"
        }
      ]
    },
    {
      "cell_type": "code",
      "metadata": {
        "colab": {
          "base_uri": "https://localhost:8080/"
        },
        "id": "8gdkUPzgK_oZ",
        "outputId": "b39be80d-0544-4985-f113-901f02c1212d"
      },
      "source": [
        "query = \"Who correct most previous misunderstandings of motion and force?\"\n",
        "query = preprocess(query)\n",
        "bm25.get_top_n(query, corpus, n=1)"
      ],
      "execution_count": null,
      "outputs": [
        {
          "output_type": "execute_result",
          "data": {
            "text/plain": [
              "['Philosophers in antiquity used the concept of force in the study of stationary and moving objects and simple machines, but thinkers such as Aristotle and Archimedes retained fundamental errors in understanding force. In part this was due to an incomplete understanding of the sometimes non-obvious force of friction, and a consequently inadequate view of the nature of natural motion. A fundamental error was the belief that a force is required to maintain motion, even at a constant velocity. Most of the previous misunderstandings about motion and force were eventually corrected by Galileo Galilei and Sir Isaac Newton. With his mathematical insight, Sir Isaac Newton formulated laws of motion that were not improved-on for nearly three hundred years. By the early 20th century, Einstein developed a theory of relativity that correctly predicted the action of forces on objects with increasing momenta near the speed of light, and also provided insight into the forces produced by gravitation and inertia.']"
            ]
          },
          "metadata": {
            "tags": []
          },
          "execution_count": 38
        }
      ]
    },
    {
      "cell_type": "code",
      "metadata": {
        "colab": {
          "base_uri": "https://localhost:8080/"
        },
        "id": "P_hJvJOMjmTk",
        "outputId": "3d90b3b5-efc6-487e-d8ac-a6b47c687fb1"
      },
      "source": [
        "!pip install tokenizers\n",
        "!pip install transformers"
      ],
      "execution_count": null,
      "outputs": [
        {
          "output_type": "stream",
          "text": [
            "Collecting tokenizers\n",
            "\u001b[?25l  Downloading https://files.pythonhosted.org/packages/ae/04/5b870f26a858552025a62f1649c20d29d2672c02ff3c3fb4c688ca46467a/tokenizers-0.10.2-cp37-cp37m-manylinux2010_x86_64.whl (3.3MB)\n",
            "\u001b[K     |████████████████████████████████| 3.3MB 3.5MB/s \n",
            "\u001b[?25hInstalling collected packages: tokenizers\n",
            "Successfully installed tokenizers-0.10.2\n",
            "Collecting transformers\n",
            "\u001b[?25l  Downloading https://files.pythonhosted.org/packages/d8/b2/57495b5309f09fa501866e225c84532d1fd89536ea62406b2181933fb418/transformers-4.5.1-py3-none-any.whl (2.1MB)\n",
            "\u001b[K     |████████████████████████████████| 2.1MB 3.6MB/s \n",
            "\u001b[?25hRequirement already satisfied: requests in /usr/local/lib/python3.7/dist-packages (from transformers) (2.23.0)\n",
            "Requirement already satisfied: tqdm>=4.27 in /usr/local/lib/python3.7/dist-packages (from transformers) (4.41.1)\n",
            "Requirement already satisfied: numpy>=1.17 in /usr/local/lib/python3.7/dist-packages (from transformers) (1.19.5)\n",
            "Requirement already satisfied: filelock in /usr/local/lib/python3.7/dist-packages (from transformers) (3.0.12)\n",
            "Requirement already satisfied: packaging in /usr/local/lib/python3.7/dist-packages (from transformers) (20.9)\n",
            "Collecting sacremoses\n",
            "\u001b[?25l  Downloading https://files.pythonhosted.org/packages/75/ee/67241dc87f266093c533a2d4d3d69438e57d7a90abb216fa076e7d475d4a/sacremoses-0.0.45-py3-none-any.whl (895kB)\n",
            "\u001b[K     |████████████████████████████████| 901kB 15.4MB/s \n",
            "\u001b[?25hRequirement already satisfied: importlib-metadata; python_version < \"3.8\" in /usr/local/lib/python3.7/dist-packages (from transformers) (3.10.1)\n",
            "Requirement already satisfied: tokenizers<0.11,>=0.10.1 in /usr/local/lib/python3.7/dist-packages (from transformers) (0.10.2)\n",
            "Requirement already satisfied: regex!=2019.12.17 in /usr/local/lib/python3.7/dist-packages (from transformers) (2019.12.20)\n",
            "Requirement already satisfied: urllib3!=1.25.0,!=1.25.1,<1.26,>=1.21.1 in /usr/local/lib/python3.7/dist-packages (from requests->transformers) (1.24.3)\n",
            "Requirement already satisfied: chardet<4,>=3.0.2 in /usr/local/lib/python3.7/dist-packages (from requests->transformers) (3.0.4)\n",
            "Requirement already satisfied: idna<3,>=2.5 in /usr/local/lib/python3.7/dist-packages (from requests->transformers) (2.10)\n",
            "Requirement already satisfied: certifi>=2017.4.17 in /usr/local/lib/python3.7/dist-packages (from requests->transformers) (2020.12.5)\n",
            "Requirement already satisfied: pyparsing>=2.0.2 in /usr/local/lib/python3.7/dist-packages (from packaging->transformers) (2.4.7)\n",
            "Requirement already satisfied: click in /usr/local/lib/python3.7/dist-packages (from sacremoses->transformers) (7.1.2)\n",
            "Requirement already satisfied: joblib in /usr/local/lib/python3.7/dist-packages (from sacremoses->transformers) (1.0.1)\n",
            "Requirement already satisfied: six in /usr/local/lib/python3.7/dist-packages (from sacremoses->transformers) (1.15.0)\n",
            "Requirement already satisfied: typing-extensions>=3.6.4; python_version < \"3.8\" in /usr/local/lib/python3.7/dist-packages (from importlib-metadata; python_version < \"3.8\"->transformers) (3.7.4.3)\n",
            "Requirement already satisfied: zipp>=0.5 in /usr/local/lib/python3.7/dist-packages (from importlib-metadata; python_version < \"3.8\"->transformers) (3.4.1)\n",
            "Installing collected packages: sacremoses, transformers\n",
            "Successfully installed sacremoses-0.0.45 transformers-4.5.1\n"
          ],
          "name": "stdout"
        }
      ]
    },
    {
      "cell_type": "code",
      "metadata": {
        "id": "AueH0eGlo3Zu"
      },
      "source": [
        "import os\n",
        "import re\n",
        "import json\n",
        "import string\n",
        "import numpy as np\n",
        "import tensorflow as tf\n",
        "from tensorflow import keras\n",
        "from tensorflow.keras import layers\n",
        "from tokenizers import BertWordPieceTokenizer\n",
        "from transformers import BertTokenizer, TFBertModel, BertConfig\n",
        "\n",
        "max_len = 384\n",
        "configuration = BertConfig()"
      ],
      "execution_count": null,
      "outputs": []
    },
    {
      "cell_type": "code",
      "metadata": {
        "colab": {
          "base_uri": "https://localhost:8080/",
          "height": 164,
          "referenced_widgets": [
            "0816471ada8448deaf00cdb7350f9f54",
            "b5901f97944b43a7a333463f99cb5e49",
            "617fd12b8e3846b2aca49a92e3620af5",
            "6b2a8dcc590f4b40ba1ba70742fa8e49",
            "a47f6a4986ba4900b0f6a98a765dc17d",
            "3e4aa08ef5f64713a6a1528546607763",
            "c0b3dcd47b2c4020ad0b830dea8cc360",
            "44b5976cad68452aa77de3aee58f77bd",
            "5d1db8e22e164a948dd00073954fcceb",
            "ac6ffc42299e458db7b38d6274bcf91b",
            "fbc83675688f45b1970e78ffad99baa9",
            "ae9aba8902d041a2958611eb8e4686a3",
            "38e70e84d78b41acb5e958b5e573a8bf",
            "d818d4f32a8148ef841cceb70283466f",
            "f10b2eb1f61243299e194abe97447f3b",
            "93632edd73d44442b83eef1d222ba778",
            "4d370b4b021348ba92acbb87c20ed046",
            "0a8e26129d8844b7b0beb96f793b9046",
            "e46a131e9a804ef389daff48f775ebf1",
            "8ec14a42cc62405baa2c0147223526cc",
            "67ac3fd051ca4e599c2efad618d1a3c5",
            "a605f1be62764dc6a6d9edf6dc3f19e5",
            "38147ceb33e24795bcc4e1c7983dcff6",
            "868786a33cef4ce6aff1a8645e12ad48"
          ]
        },
        "id": "SHL-fkyWo6ky",
        "outputId": "ae0afd31-4c9b-4c75-f1e9-d5469842d99c"
      },
      "source": [
        "slow_tokenizer = BertTokenizer.from_pretrained(\"bert-base-uncased\")\n",
        "save_path = \"bert_base_uncased/\"\n",
        "if not os.path.exists(save_path):\n",
        "    os.makedirs(save_path)\n",
        "slow_tokenizer.save_pretrained(save_path)\n",
        "\n",
        "# Load the fast tokenizer from saved file\n",
        "tokenizer = BertWordPieceTokenizer(\"bert_base_uncased/vocab.txt\", lowercase=True)"
      ],
      "execution_count": null,
      "outputs": [
        {
          "output_type": "display_data",
          "data": {
            "application/vnd.jupyter.widget-view+json": {
              "model_id": "0816471ada8448deaf00cdb7350f9f54",
              "version_minor": 0,
              "version_major": 2
            },
            "text/plain": [
              "HBox(children=(FloatProgress(value=0.0, description='Downloading', max=231508.0, style=ProgressStyle(descripti…"
            ]
          },
          "metadata": {
            "tags": []
          }
        },
        {
          "output_type": "stream",
          "text": [
            "\n"
          ],
          "name": "stdout"
        },
        {
          "output_type": "display_data",
          "data": {
            "application/vnd.jupyter.widget-view+json": {
              "model_id": "5d1db8e22e164a948dd00073954fcceb",
              "version_minor": 0,
              "version_major": 2
            },
            "text/plain": [
              "HBox(children=(FloatProgress(value=0.0, description='Downloading', max=28.0, style=ProgressStyle(description_w…"
            ]
          },
          "metadata": {
            "tags": []
          }
        },
        {
          "output_type": "stream",
          "text": [
            "\n"
          ],
          "name": "stdout"
        },
        {
          "output_type": "display_data",
          "data": {
            "application/vnd.jupyter.widget-view+json": {
              "model_id": "4d370b4b021348ba92acbb87c20ed046",
              "version_minor": 0,
              "version_major": 2
            },
            "text/plain": [
              "HBox(children=(FloatProgress(value=0.0, description='Downloading', max=466062.0, style=ProgressStyle(descripti…"
            ]
          },
          "metadata": {
            "tags": []
          }
        },
        {
          "output_type": "stream",
          "text": [
            "\n"
          ],
          "name": "stdout"
        }
      ]
    },
    {
      "cell_type": "code",
      "metadata": {
        "id": "Uk2R1kPd1Kq-"
      },
      "source": [
        "def create_model():\n",
        "\n",
        "    encoder = TFBertModel.from_pretrained(\"bert-base-uncased\")\n",
        "\n",
        "    input_ids = layers.Input(shape=(max_len,), dtype=tf.int32)\n",
        "    token_type_ids = layers.Input(shape=(max_len,), dtype=tf.int32)\n",
        "    attention_mask = layers.Input(shape=(max_len,), dtype=tf.int32)\n",
        "    embedding = encoder(\n",
        "        input_ids, token_type_ids=token_type_ids, attention_mask=attention_mask\n",
        "    )[0]\n",
        "\n",
        "    start_logits = layers.Dense(1, name=\"start_logit\", use_bias=False)(embedding)\n",
        "    start_logits = layers.Flatten()(start_logits)\n",
        "\n",
        "    end_logits = layers.Dense(1, name=\"end_logit\", use_bias=False)(embedding)\n",
        "    end_logits = layers.Flatten()(end_logits)\n",
        "\n",
        "    start_probs = layers.Activation(keras.activations.softmax)(start_logits)\n",
        "    end_probs = layers.Activation(keras.activations.softmax)(end_logits)\n",
        "\n",
        "    model = keras.Model(\n",
        "        inputs=[input_ids, token_type_ids, attention_mask],\n",
        "        outputs=[start_probs, end_probs],\n",
        "    )\n",
        "    loss = keras.losses.SparseCategoricalCrossentropy(from_logits=False)\n",
        "    optimizer = keras.optimizers.Adam(lr=5e-5)\n",
        "    model.compile(optimizer=optimizer, loss=[loss, loss])\n",
        "    return model"
      ],
      "execution_count": null,
      "outputs": []
    },
    {
      "cell_type": "code",
      "metadata": {
        "colab": {
          "base_uri": "https://localhost:8080/",
          "height": 492,
          "referenced_widgets": [
            "5b27ccf1d51742d4b5674feb5bfc4e46",
            "bc566eef7dd84dbfb2870847e4cbe383",
            "37167dd62475469082fb976af3ba36e0",
            "959ad037ec4c4132bab4afffe44c28ee",
            "df148f26ac6447e49eec0b7f09b374d8",
            "b23dcbb67a2645e48f6f8b9b392a113c",
            "e3bf57ad4518415f97cdfddff0d7f9a7",
            "be945f4f51e642eb90cd72787c7fd4a7",
            "aac0f52b5853410b86c55b20d684354c",
            "47a04da6aa71442fbc9563730dfe458f",
            "071b214e5ad44670a5a9e26c6ec21155",
            "56beaa2eb9c043ab99882661e08b2df6",
            "c8fa7caea50045f9ac4619014afb6152",
            "743f8aee99a442ca865e972b621cd9b1",
            "d21d198087e348d296c0ca1147a4ab47",
            "87df066abc8a4b3da6186fbb4bf14a2d"
          ]
        },
        "id": "7YgbvPyG1Ldw",
        "outputId": "87946b41-6ff5-4060-b61d-81a3e4f65c20"
      },
      "source": [
        "model = create_model()"
      ],
      "execution_count": null,
      "outputs": [
        {
          "output_type": "display_data",
          "data": {
            "application/vnd.jupyter.widget-view+json": {
              "model_id": "5b27ccf1d51742d4b5674feb5bfc4e46",
              "version_minor": 0,
              "version_major": 2
            },
            "text/plain": [
              "HBox(children=(FloatProgress(value=0.0, description='Downloading', max=570.0, style=ProgressStyle(description_…"
            ]
          },
          "metadata": {
            "tags": []
          }
        },
        {
          "output_type": "stream",
          "text": [
            "\n"
          ],
          "name": "stdout"
        },
        {
          "output_type": "display_data",
          "data": {
            "application/vnd.jupyter.widget-view+json": {
              "model_id": "aac0f52b5853410b86c55b20d684354c",
              "version_minor": 0,
              "version_major": 2
            },
            "text/plain": [
              "HBox(children=(FloatProgress(value=0.0, description='Downloading', max=536063208.0, style=ProgressStyle(descri…"
            ]
          },
          "metadata": {
            "tags": []
          }
        },
        {
          "output_type": "stream",
          "text": [
            "\n"
          ],
          "name": "stdout"
        },
        {
          "output_type": "stream",
          "text": [
            "Some layers from the model checkpoint at bert-base-uncased were not used when initializing TFBertModel: ['mlm___cls', 'nsp___cls']\n",
            "- This IS expected if you are initializing TFBertModel from the checkpoint of a model trained on another task or with another architecture (e.g. initializing a BertForSequenceClassification model from a BertForPreTraining model).\n",
            "- This IS NOT expected if you are initializing TFBertModel from the checkpoint of a model that you expect to be exactly identical (initializing a BertForSequenceClassification model from a BertForSequenceClassification model).\n",
            "All the layers of TFBertModel were initialized from the model checkpoint at bert-base-uncased.\n",
            "If your task is similar to the task the model of the checkpoint was trained on, you can already use TFBertModel for predictions without further training.\n"
          ],
          "name": "stderr"
        },
        {
          "output_type": "stream",
          "text": [
            "WARNING:tensorflow:The parameters `output_attentions`, `output_hidden_states` and `use_cache` cannot be updated when calling a model.They have to be set to True/False in the config object (i.e.: `config=XConfig.from_pretrained('name', output_attentions=True)`).\n",
            "WARNING:tensorflow:AutoGraph could not transform <bound method Socket.send of <zmq.sugar.socket.Socket object at 0x7fa94c3afd00>> and will run it as-is.\n",
            "Please report this to the TensorFlow team. When filing the bug, set the verbosity to 10 (on Linux, `export AUTOGRAPH_VERBOSITY=10`) and attach the full output.\n",
            "Cause: module, class, method, function, traceback, frame, or code object was expected, got cython_function_or_method\n",
            "To silence this warning, decorate the function with @tf.autograph.experimental.do_not_convert\n",
            "WARNING: AutoGraph could not transform <bound method Socket.send of <zmq.sugar.socket.Socket object at 0x7fa94c3afd00>> and will run it as-is.\n",
            "Please report this to the TensorFlow team. When filing the bug, set the verbosity to 10 (on Linux, `export AUTOGRAPH_VERBOSITY=10`) and attach the full output.\n",
            "Cause: module, class, method, function, traceback, frame, or code object was expected, got cython_function_or_method\n",
            "To silence this warning, decorate the function with @tf.autograph.experimental.do_not_convert\n",
            "WARNING:tensorflow:AutoGraph could not transform <function wrap at 0x7fa967c5cd40> and will run it as-is.\n",
            "Cause: while/else statement not yet supported\n",
            "To silence this warning, decorate the function with @tf.autograph.experimental.do_not_convert\n",
            "WARNING: AutoGraph could not transform <function wrap at 0x7fa967c5cd40> and will run it as-is.\n",
            "Cause: while/else statement not yet supported\n",
            "To silence this warning, decorate the function with @tf.autograph.experimental.do_not_convert\n",
            "WARNING:tensorflow:The parameter `return_dict` cannot be set in graph mode and will always be set to `True`.\n"
          ],
          "name": "stdout"
        }
      ]
    },
    {
      "cell_type": "code",
      "metadata": {
        "colab": {
          "base_uri": "https://localhost:8080/"
        },
        "id": "CMR-kWPz1g38",
        "outputId": "ed7ffdf6-1c28-425c-e19e-a9ab17d21cde"
      },
      "source": [
        "from google.colab import drive\n",
        "drive.mount('/content/drive')"
      ],
      "execution_count": null,
      "outputs": [
        {
          "output_type": "stream",
          "text": [
            "Mounted at /content/drive\n"
          ],
          "name": "stdout"
        }
      ]
    },
    {
      "cell_type": "code",
      "metadata": {
        "id": "14LNP8BL1vTk"
      },
      "source": [
        "model.load_weights(\"/content/drive/MyDrive/NLP Project/single_span/singlespan.h5\")"
      ],
      "execution_count": null,
      "outputs": []
    },
    {
      "cell_type": "code",
      "metadata": {
        "id": "1Sxveq-QpfCW"
      },
      "source": [
        "def create_input(question, context):\n",
        "\n",
        "    context = \" \".join(str(context).split())\n",
        "    question = \" \".join(str(question).split())\n",
        "\n",
        "    tokenized_context = tokenizer.encode(context)\n",
        "    tokenized_question = tokenizer.encode(question)\n",
        "\n",
        "\n",
        "    input_ids = tokenized_context.ids + tokenized_question.ids[1:]\n",
        "    token_type_ids = [0] * len(tokenized_context.ids) + [1] * len(tokenized_question.ids[1:])\n",
        "\n",
        "    attention_mask = [1] * len(input_ids)\n",
        "\n",
        "    padding_length = max_len - len(input_ids)\n",
        "\n",
        "    if padding_length > 0:  \n",
        "        input_ids = input_ids + ([0] * padding_length)\n",
        "        attention_mask = attention_mask + ([0] * padding_length)\n",
        "        token_type_ids = token_type_ids + ([0] * padding_length)\n",
        "\n",
        "    return [np.array([input_ids]), np.array([token_type_ids]), np.array([attention_mask])] , tokenized_context.offsets    "
      ],
      "execution_count": null,
      "outputs": []
    },
    {
      "cell_type": "code",
      "metadata": {
        "id": "Ztxe3yt22WQy"
      },
      "source": [
        "a, offsets = create_input(\"who is fast\", \"jim is not fast. john doe is fast\")"
      ],
      "execution_count": null,
      "outputs": []
    },
    {
      "cell_type": "code",
      "metadata": {
        "id": "3WXSkXYM4xG3"
      },
      "source": [
        "model_output = model.predict(a)"
      ],
      "execution_count": null,
      "outputs": []
    },
    {
      "cell_type": "code",
      "metadata": {
        "id": "jTUn3ipG3QBd"
      },
      "source": [
        "def get_answer(model_output, offsets, context):\n",
        "\n",
        "    start_pred, end_pred = model_output\n",
        "\n",
        "    start = np.argmax(start_pred)\n",
        "    end = np.argmax(end_pred)\n",
        "    \n",
        "\n",
        "    if(start > end):\n",
        "        end = np.argmax(end_pred[:,start:]) + start\n",
        "\n",
        "    pred_char_start = offsets[start][0]\n",
        "    pred_char_end = offsets[end][1]\n",
        "    pred_ans = context[pred_char_start:pred_char_end]\n",
        "\n",
        "    return pred_ans\n",
        "\n"
      ],
      "execution_count": null,
      "outputs": []
    },
    {
      "cell_type": "code",
      "metadata": {
        "id": "ZPSurPWw5NhU"
      },
      "source": [
        "def ask_question(question):\n",
        "\n",
        "    query = preprocess(question)\n",
        "    context = bm25.get_top_n(query, corpus, n=1)[0]\n",
        "\n",
        "    input, offsets = create_input(question, context)\n",
        "    output = model.predict(input)\n",
        "\n",
        "    answer = get_answer(output, offsets, context)\n",
        "\n",
        "    print(\"answer:\",answer)\n",
        "    print(\"context from corpus:\", context)"
      ],
      "execution_count": null,
      "outputs": []
    },
    {
      "cell_type": "code",
      "metadata": {
        "colab": {
          "base_uri": "https://localhost:8080/"
        },
        "id": "9k6zAN-f6pI0",
        "outputId": "40ae07f4-3b34-4eae-90b7-02e8ed24f388"
      },
      "source": [
        "ask_question(\"how many natural reserves are there in warsaw\")"
      ],
      "execution_count": null,
      "outputs": [
        {
          "output_type": "stream",
          "text": [
            "answer: 13\n",
            "context from corpus: There are 13 natural reserves in Warsaw – among others, Bielany Forest, Kabaty Woods, Czerniaków Lake. About 15 kilometres (9 miles) from Warsaw, the Vistula river's environment changes strikingly and features a perfectly preserved ecosystem, with a habitat of animals that includes the otter, beaver and hundreds of bird species. There are also several lakes in Warsaw – mainly the oxbow lakes, like Czerniaków Lake, the lakes in the Łazienki or Wilanów Parks, Kamionek Lake. There are lot of small lakes in the parks, but only a few are permanent – the majority are emptied before winter to clean them of plants and sediments.\n"
          ],
          "name": "stdout"
        }
      ]
    },
    {
      "cell_type": "code",
      "metadata": {
        "colab": {
          "base_uri": "https://localhost:8080/"
        },
        "id": "whmAPOY070Tt",
        "outputId": "5d01339c-24df-40e1-8d00-1d59dae8f064"
      },
      "source": [
        "ask_question(\"who developed the theory of relativity\")"
      ],
      "execution_count": null,
      "outputs": [
        {
          "output_type": "stream",
          "text": [
            "answer: Einstein\n",
            "context from corpus: Tesla was generally antagonistic towards theories about the conversion of matter into energy.:247 He was also critical of Einstein's theory of relativity, saying:\n"
          ],
          "name": "stdout"
        }
      ]
    },
    {
      "cell_type": "code",
      "metadata": {
        "colab": {
          "base_uri": "https://localhost:8080/"
        },
        "id": "hqg-itWw781K",
        "outputId": "509bfb04-1259-4bb2-cf5b-15694aa09df3"
      },
      "source": [
        "ask_question(\"which is the largest florida city\")"
      ],
      "execution_count": null,
      "outputs": [
        {
          "output_type": "stream",
          "text": [
            "answer: Jacksonville\n",
            "context from corpus: Jacksonville is the largest city by population in the U.S. state of Florida, and the largest city by area in the contiguous United States. It is the county seat of Duval County, with which the city government consolidated in 1968. Consolidation gave Jacksonville its great size and placed most of its metropolitan population within the city limits; with an estimated population of 853,382 in 2014, it is the most populous city proper in Florida and the Southeast, and the 12th most populous in the United States. Jacksonville is the principal city in the Jacksonville metropolitan area, with a population of 1,345,596 in 2010.\n"
          ],
          "name": "stdout"
        }
      ]
    },
    {
      "cell_type": "code",
      "metadata": {
        "colab": {
          "base_uri": "https://localhost:8080/"
        },
        "id": "ACLBXy6_8Ekx",
        "outputId": "c30fe981-8800-4276-d62d-cd725714e6ec"
      },
      "source": [
        "ask_question(\"when was warsaw occupied by germany\")"
      ],
      "execution_count": null,
      "outputs": [
        {
          "output_type": "stream",
          "text": [
            "answer: 4 August 1915 until November 1918\n",
            "context from corpus: Warsaw was occupied by Germany from 4 August 1915 until November 1918. The Allied Armistice terms required in Article 12 that Germany withdraw from areas controlled by Russia in 1914, which included Warsaw. Germany did so, and underground leader Piłsudski returned to Warsaw on 11 November and set up what became the Second Polish Republic, with Warsaw the capital. In the course of the Polish-Bolshevik War of 1920, the huge Battle of Warsaw was fought on the eastern outskirts of the city in which the capital was successfully defended and the Red Army defeated. Poland stopped by itself the full brunt of the Red Army and defeated an idea of the \"export of the revolution\".\n"
          ],
          "name": "stdout"
        }
      ]
    },
    {
      "cell_type": "code",
      "metadata": {
        "colab": {
          "base_uri": "https://localhost:8080/"
        },
        "id": "mR9id4GY8XEN",
        "outputId": "6314936c-649c-4e5a-860b-9cbc0b0424f2"
      },
      "source": [
        "ask_question(\"how many general principles are declared by the social charter\")"
      ],
      "execution_count": null,
      "outputs": [
        {
          "output_type": "stream",
          "text": [
            "answer: 30\n",
            "context from corpus: The Social Chapter is a chapter of the 1997 Treaty of Amsterdam covering social policy issues in European Union law. The basis for the Social Chapter was developed in 1989 by the \"social partners\" representatives, namely UNICE, the employers' confederation, the European Trade Union Confederation (ETUC) and CEEP, the European Centre of Public Enterprises. A toned down version was adopted as the Social Charter at the 1989 Strasbourg European Council. The Social Charter declares 30 general principles, including on fair remuneration of employment, health and safety at work, rights of disabled and elderly, the rights of workers, on vocational training and improvements of living conditions. The Social Charter became the basis for European Community legislation on these issues in 40 pieces of legislation.\n"
          ],
          "name": "stdout"
        }
      ]
    },
    {
      "cell_type": "code",
      "metadata": {
        "colab": {
          "base_uri": "https://localhost:8080/"
        },
        "id": "vT8toF0Q84ay",
        "outputId": "e4db5fa8-8b68-4f00-effa-15652ab99302"
      },
      "source": [
        "ask_question(\"which market replaced the butcher market\")\n"
      ],
      "execution_count": null,
      "outputs": [
        {
          "output_type": "stream",
          "text": [
            "answer: Grainger Market\n",
            "context from corpus: The Grainger Market replaced an earlier market originally built in 1808 called the Butcher Market. The Grainger Market itself, was opened in 1835 and was Newcastle's first indoor market. At the time of its opening in 1835 it was said to be one of the largest and most beautiful markets in Europe. The opening was celebrated with a grand dinner attended by 2000 guests, and the Laing Art Gallery has a painting of this event. With the exception of the timber roof which was destroyed by a fire in 1901 and replaced by latticed-steel arches the Market is largely in its original condition. The Grainger Market architecture, like most in Grainger Town, which are either grade I or II listed, was listed grade I in 1954 by English Heritage.\n"
          ],
          "name": "stdout"
        }
      ]
    },
    {
      "cell_type": "code",
      "metadata": {
        "colab": {
          "base_uri": "https://localhost:8080/"
        },
        "id": "9ErxlbjO9grE",
        "outputId": "de1a7c68-3a7b-416d-c54e-99225d07f823"
      },
      "source": [
        "ask_question(\"which church condemns capital punishment\")"
      ],
      "execution_count": null,
      "outputs": [
        {
          "output_type": "stream",
          "text": [
            "answer: The United Methodist Church\n",
            "context from corpus: The United Methodist Church, along with other Methodist churches, condemns capital punishment, saying that it cannot accept retribution or social vengeance as a reason for taking human life. The Church also holds that the death penalty falls unfairly and unequally upon marginalized persons including the poor, the uneducated, ethnic and religious minorities, and persons with mental and emotional illnesses. The United Methodist Church also believes that Jesus explicitly repudiated the lex talionis in Matthew 5:38-39 and abolished the death penalty in John 8:7. The General Conference of the United Methodist Church calls for its bishops to uphold opposition to capital punishment and for governments to enact an immediate moratorium on carrying out the death penalty sentence.\n"
          ],
          "name": "stdout"
        }
      ]
    },
    {
      "cell_type": "code",
      "metadata": {
        "colab": {
          "base_uri": "https://localhost:8080/"
        },
        "id": "QyHB4Ewe9xEa",
        "outputId": "84de9430-0876-4daa-c7ac-f8fde16843fb"
      },
      "source": [
        "ask_question(\"what is the yuan dynasty officially known as\")"
      ],
      "execution_count": null,
      "outputs": [
        {
          "output_type": "stream",
          "text": [
            "answer: Great Yuan\n",
            "context from corpus: The Yuan dynasty (Chinese: 元朝; pinyin: Yuán Cháo), officially the Great Yuan (Chinese: 大元; pinyin: Dà Yuán; Mongolian: Yehe Yuan Ulus[a]), was the empire or ruling dynasty of China established by Kublai Khan, leader of the Mongolian Borjigin clan. Although the Mongols had ruled territories including today's North China for decades, it was not until 1271 that Kublai Khan officially proclaimed the dynasty in the traditional Chinese style. His realm was, by this point, isolated from the other khanates and controlled most of present-day China and its surrounding areas, including modern Mongolia and Korea. It was the first foreign dynasty to rule all of China and lasted until 1368, after which its Genghisid rulers returned to their Mongolian homeland and continued to rule the Northern Yuan dynasty. Some of the Mongolian Emperors of the Yuan mastered the Chinese language, while others only used their native language (i.e. Mongolian) and the 'Phags-pa script.\n"
          ],
          "name": "stdout"
        }
      ]
    },
    {
      "cell_type": "code",
      "metadata": {
        "colab": {
          "base_uri": "https://localhost:8080/"
        },
        "id": "ps87Gcc2-Tcb",
        "outputId": "d4e2b9f7-9087-4166-bb8b-8694a83f4627"
      },
      "source": [
        "ask_question(\"who supplied four of eight songs of the First Lutheran hymnal Achtliederbuch\")"
      ],
      "execution_count": null,
      "outputs": [
        {
          "output_type": "stream",
          "text": [
            "answer: Luther\n",
            "context from corpus: Luther's hymns were included in early Lutheran hymnals and spread the ideas of the Reformation. He supplied four of eight songs of the First Lutheran hymnal Achtliederbuch, 18 of 26 songs of the Erfurt Enchiridion, and 24 of the 32 songs in the first choral hymnal with settings by Johann Walter, Eyn geystlich Gesangk Buchleyn, all published in 1524.\n"
          ],
          "name": "stdout"
        }
      ]
    },
    {
      "cell_type": "code",
      "metadata": {
        "id": "n1jaSq5f7Z3I"
      },
      "source": [
        "def create_corpus_from_file(filename):\n",
        "\n",
        "    with open(filename, 'r') as f:\n",
        "\n",
        "        string = f.read()\n",
        "\n",
        "    corpus = string.split('//')\n",
        "\n",
        "    for i in range(len(corpus)):\n",
        "        corpus[i] = re.sub('\\n',' ',corpus[i])\n",
        "        if(corpus[i][0] == ' '):\n",
        "            corpus[i] = corpus[i][1:]\n",
        "\n",
        "    return corpus"
      ],
      "execution_count": null,
      "outputs": []
    },
    {
      "cell_type": "code",
      "metadata": {
        "id": "yB-enKwzTCCR"
      },
      "source": [
        "corpus = create_corpus_from_file('corpus.txt')\n",
        "\n",
        "processed = []\n",
        "\n",
        "for i in corpus:\n",
        "    processed.append(preprocess(i))"
      ],
      "execution_count": null,
      "outputs": []
    },
    {
      "cell_type": "code",
      "metadata": {
        "id": "FlnBpJCYTXnw"
      },
      "source": [
        "bm25 = BM25Okapi(processed)"
      ],
      "execution_count": null,
      "outputs": []
    },
    {
      "cell_type": "code",
      "metadata": {
        "colab": {
          "base_uri": "https://localhost:8080/"
        },
        "id": "v4HmbL3zTYtV",
        "outputId": "7b9bf62b-397e-4bce-b209-9a501260312f"
      },
      "source": [
        "ask_question(\"what does sulphur dioxide cause\")"
      ],
      "execution_count": null,
      "outputs": [
        {
          "output_type": "stream",
          "text": [
            "answer: irritation to the eyes\n",
            "context from corpus: Oxides of Sulphur: Oxides of sulphur are produced when sulphur containing fossil fuel is burnt. The most common species, sulphur dioxide, is a gas that is poisonous to both animals and plants. It has been reported that even a low concentration of sulphur dioxide causes respiratory diseases e.g., asthma, bronchitis, emphysema in human beings. Sulphur dioxide causes irritation to the eyes, resulting in tears and redness. High concentration of SO2 leads to stiffness of flower buds which eventually fall off from plants. Uncatalysed oxidation of sulphur dioxide is slow. However, the presence of particulate matter in polluted air catalyses the oxidation of sulphur dioxide to sulphur trioxide. The reaction can also be promoted by ozone and hydrogen peroxide. \n"
          ],
          "name": "stdout"
        }
      ]
    },
    {
      "cell_type": "code",
      "metadata": {
        "colab": {
          "base_uri": "https://localhost:8080/"
        },
        "id": "L-PhJX5CUZ7_",
        "outputId": "68f4da88-3411-4f2b-8709-bc843cfd35c6"
      },
      "source": [
        "ask_question(\"how does troposphere pollution occur\")"
      ],
      "execution_count": null,
      "outputs": [
        {
          "output_type": "stream",
          "text": [
            "answer: due to the presence of undesirable solid or gaseous particles in the air\n",
            "context from corpus: Tropospheric pollution occurs due to the presence of undesirable solid or gaseous particles in the air. The following are the major gaseous and particulate pollutants present in the troposphere: 1. Gaseous air pollutants: These are oxides of sulphur, nitrogen and carbon, hydrogen sulphide, hydrocarbons, ozone and other oxidants. 2. Particulate pollutants: These are dust, mist, fumes, smoke, smog etc. \n"
          ],
          "name": "stdout"
        }
      ]
    },
    {
      "cell_type": "code",
      "metadata": {
        "colab": {
          "base_uri": "https://localhost:8080/"
        },
        "id": "MFatGu_WU2Aq",
        "outputId": "5e8124e3-0541-468f-ca92-66f21ef1312e"
      },
      "source": [
        "ask_question(\"what is the color of haze caused by oxides of nitrogen\")"
      ],
      "execution_count": null,
      "outputs": [
        {
          "output_type": "stream",
          "text": [
            "answer: red\n",
            "context from corpus: The irritant red haze in the traffic and congested places is due to oxides of nitrogen. Higher concentrations of NO2 damage the leaves of plants and retard the rate of photosynthesis. Nitrogen dioxide is a lung irritant that can lead to an acute respiratory disease in children. It is toxic to living tissues also. Nitrogen dioxide is also harmful to various textile fibres and metals. \n"
          ],
          "name": "stdout"
        }
      ]
    },
    {
      "cell_type": "code",
      "metadata": {
        "colab": {
          "base_uri": "https://localhost:8080/"
        },
        "id": "9OUWYJpAVTTp",
        "outputId": "b5b45e1c-3d1e-42b8-add1-6e32a7afc114"
      },
      "source": [
        "ask_question(\"what has increased due to  use of chemical fertilizers and the burning of fossil fuels\")"
      ],
      "execution_count": null,
      "outputs": [
        {
          "output_type": "stream",
          "text": [
            "answer: Nitrous oxide\n",
            "context from corpus: Besides carbon dioxide, other greenhouse gases are methane, water vapour, nitrous oxide, CFCs and ozone. Methane is produced naturally when vegetation is burnt, digested or rotted in the absence of oxygen. Large amounts of methane are released in paddy fields, coal mines, from rotting garbage dumps and by fossil fuels. Chlorofluorocarbons (CFCs) are man-made industrial chemicals used in air conditioning etc. CFCs are also damaging the ozone layer (Section 14.2.2). Nitrous oxide occurs naturally in the environment. In recent years, their quantities have increased significantly due to the use of chemical fertilizers and the burning of fossil fuels. If these trends continue, the average global temperature will increase to a level which may lead to melting of polar ice caps and flooding of low lying areas all over the earth. Increase in the global temperature increases the incidence of infectious diseases like dengue, malaria, yellow fever, sleeping sickness etc.\n"
          ],
          "name": "stdout"
        }
      ]
    },
    {
      "cell_type": "code",
      "metadata": {
        "colab": {
          "base_uri": "https://localhost:8080/"
        },
        "id": "3v1bjM1bVkvw",
        "outputId": "1f5afa7e-12dc-44a5-aaa8-e84f1170d15b"
      },
      "source": [
        "ask_question(\"what happens when global temperature increases\") #vague answer"
      ],
      "execution_count": null,
      "outputs": [
        {
          "output_type": "stream",
          "text": [
            "answer: Increase in the global temperature increases the incidence of infectious diseases\n",
            "context from corpus: Besides carbon dioxide, other greenhouse gases are methane, water vapour, nitrous oxide, CFCs and ozone. Methane is produced naturally when vegetation is burnt, digested or rotted in the absence of oxygen. Large amounts of methane are released in paddy fields, coal mines, from rotting garbage dumps and by fossil fuels. Chlorofluorocarbons (CFCs) are man-made industrial chemicals used in air conditioning etc. CFCs are also damaging the ozone layer (Section 14.2.2). Nitrous oxide occurs naturally in the environment. In recent years, their quantities have increased significantly due to the use of chemical fertilizers and the burning of fossil fuels. If these trends continue, the average global temperature will increase to a level which may lead to melting of polar ice caps and flooding of low lying areas all over the earth. Increase in the global temperature increases the incidence of infectious diseases like dengue, malaria, yellow fever, sleeping sickness etc.\n"
          ],
          "name": "stdout"
        }
      ]
    },
    {
      "cell_type": "code",
      "metadata": {
        "colab": {
          "base_uri": "https://localhost:8080/"
        },
        "id": "Gcn00xraaL3c",
        "outputId": "138beb63-3629-4276-e783-70aa734addd4"
      },
      "source": [
        "ask_question(\"why is carbon monoxide poisonous\") #vague answer"
      ],
      "execution_count": null,
      "outputs": [
        {
          "output_type": "stream",
          "text": [
            "answer: It binds to haemoglobin to form carboxyhaemoglobin\n",
            "context from corpus: Carbon monoxide (CO) is one of the most serious air pollutants. It is a colourless and odourless gas, highly poisonous to living beings because of its ability to block the delivery of oxygen to the organs and tissues. It is produced as a result of incomplete combustion of carbon. Carbon monoxide is mainly released into the air by automobile exhaust. Other sources, which produce CO, involve incomplete combustion of coal, firewood, petrol, etc. The number of vehicles has been increasing over the years all over the world. Many vehicles are poorly maintained and several have inadequate pollution control equipments resulting in the release of greater amount of carbon monoxide and other polluting gases. Do you know why carbon monoxide is poisonous? It binds to haemoglobin to form carboxyhaemoglobin, which is about 300 times more stable than the oxygen-haemoglobin complex. In blood, when the concentration of carboxyhaemoglobin reaches about 3–4 per cent, the oxygen carrying capacity of blood is greatly reduced. This oxygen deficiency, results into headache, weak eyesight, nervousness and cardiovascular disorder. This is the reason why people are advised not to smoke. In pregnant women who have the habit of smoking the increased CO level in blood may induce premature birth, spontaneous abortions and deformed babies. \n"
          ],
          "name": "stdout"
        }
      ]
    },
    {
      "cell_type": "code",
      "metadata": {
        "colab": {
          "base_uri": "https://localhost:8080/"
        },
        "id": "kc6PKf49awx-",
        "outputId": "4bd9d1c5-214e-425e-adac-a58eb637c137"
      },
      "source": [
        "ask_question(\"what is the pH of rain water\")"
      ],
      "execution_count": null,
      "outputs": [
        {
          "output_type": "stream",
          "text": [
            "answer: 5.6\n",
            "context from corpus: We are aware that normally rain water has a pH of 5.6 due to the presence of H+ ions formed by the reaction of rain water with carbon dioxide present in the atmosphere. When the pH of the rain water drops below 5.6, it is called acid rain. Acid rain refers to the ways in which acid from the atmosphere is deposited on the earth’s surface. Oxides of nitrogen and sulphur which are acidic in nature can be blown by wind along with solid particles in the atmosphere and finally settle down either on the ground as dry deposition or in water, fog and snow as wet deposition. \n"
          ],
          "name": "stdout"
        }
      ]
    },
    {
      "cell_type": "code",
      "metadata": {
        "colab": {
          "base_uri": "https://localhost:8080/"
        },
        "id": "q-6hmSGxb4-u",
        "outputId": "cf866256-5a08-4daf-eaed-14550d079f2f"
      },
      "source": [
        "ask_question(\"why is the ph of rain water 5.6\")"
      ],
      "execution_count": null,
      "outputs": [
        {
          "output_type": "stream",
          "text": [
            "answer: H+ ions formed by the reaction of rain water with carbon dioxide present in the atmosphere\n",
            "context from corpus: We are aware that normally rain water has a pH of 5.6 due to the presence of H+ ions formed by the reaction of rain water with carbon dioxide present in the atmosphere. When the pH of the rain water drops below 5.6, it is called acid rain. Acid rain refers to the ways in which acid from the atmosphere is deposited on the earth’s surface. Oxides of nitrogen and sulphur which are acidic in nature can be blown by wind along with solid particles in the atmosphere and finally settle down either on the ground as dry deposition or in water, fog and snow as wet deposition. \n"
          ],
          "name": "stdout"
        }
      ]
    },
    {
      "cell_type": "code",
      "metadata": {
        "colab": {
          "base_uri": "https://localhost:8080/"
        },
        "id": "l4HPzjQpcFzA",
        "outputId": "bed66479-01eb-476b-ae65-3069148a9457"
      },
      "source": [
        "ask_question(\"what is acid rain\")"
      ],
      "execution_count": null,
      "outputs": [
        {
          "output_type": "stream",
          "text": [
            "answer: rain water has a pH of 5.6 due to the presence of H+ ions formed by the reaction of rain water with carbon dioxide present in the atmosphere. When the pH of the rain water drops below 5.6, it is called acid rain. Acid rain refers to the ways in which acid from the atmosphere is deposited on the earth’s surface\n",
            "context from corpus: We are aware that normally rain water has a pH of 5.6 due to the presence of H+ ions formed by the reaction of rain water with carbon dioxide present in the atmosphere. When the pH of the rain water drops below 5.6, it is called acid rain. Acid rain refers to the ways in which acid from the atmosphere is deposited on the earth’s surface. Oxides of nitrogen and sulphur which are acidic in nature can be blown by wind along with solid particles in the atmosphere and finally settle down either on the ground as dry deposition or in water, fog and snow as wet deposition. \n"
          ],
          "name": "stdout"
        }
      ]
    },
    {
      "cell_type": "code",
      "metadata": {
        "colab": {
          "base_uri": "https://localhost:8080/"
        },
        "id": "K2llBgdYcRX_",
        "outputId": "8214fc9d-999e-4d41-8df4-7def55c46666"
      },
      "source": [
        "ask_question(\"which Indian monument has been affected by acid rain\")"
      ],
      "execution_count": null,
      "outputs": [
        {
          "output_type": "stream",
          "text": [
            "answer: Taj Mahal\n",
            "context from corpus: Acid rain is harmful for agriculture, trees and plants as it dissolves and washes away nutrients needed for their growth. It causes respiratory ailments in human beings and animals. When acid rain falls and flows as ground water to reach rivers, lakes etc. it affects plants and animal life in aquatic ecosystem. It corrodes water pipes resulting in the leaching of heavy metals such as iron, lead and copper into the drinking water. Acid rain damages buildings and other structures made of stone or metal. The Taj Mahal in India has been affected by acid rain. \n"
          ],
          "name": "stdout"
        }
      ]
    },
    {
      "cell_type": "code",
      "metadata": {
        "colab": {
          "base_uri": "https://localhost:8080/"
        },
        "id": "NfAZZOieeQtL",
        "outputId": "c32447ad-0c90-4110-8f53-eafb01c8265b"
      },
      "source": [
        "ask_question(\"what is smog\")"
      ],
      "execution_count": null,
      "outputs": [
        {
          "output_type": "stream",
          "text": [
            "answer: It is a mixture of smoke, fog and sulphur dioxide\n",
            "context from corpus: The word smog is derived from smoke and fog. This is the most common example of air pollution that occurs in many cities throughout the world. There are two types of smog: (a) Classical smog occurs in cool humid climate. It is a mixture of smoke, fog and sulphur dioxide. Chemically it is a reducing mixture and so it is also called as reducing smog. (b) Photochemical smog occurs in warm, dry and sunny climate. The main components of the photochemical smog result from the action of sunlight on unsaturated hydrocarbons and nitrogen oxides produced by automobiles and factories. Photochemical smog has high concentration of oxidising agents and is, therefore, called as oxidising smog. \n"
          ],
          "name": "stdout"
        }
      ]
    },
    {
      "cell_type": "code",
      "metadata": {
        "colab": {
          "base_uri": "https://localhost:8080/"
        },
        "id": "411-mlOIeXpe",
        "outputId": "ac1dc098-932e-4bff-8ac3-03c9050b7b5e"
      },
      "source": [
        "ask_question(\"what gases cause greenhouse effect\") #not complete"
      ],
      "execution_count": null,
      "outputs": [
        {
          "output_type": "stream",
          "text": [
            "answer: Carbon dioxide\n",
            "context from corpus: We all know that in cold places flowers, vegetables and fruits are grown in glass covered areas called greenhouse. Do you know that we humans also live in a greenhouse? Of course, we are not surrounded by glass but a blanket of air called the atmosphere, which has kept the temperature on earth constant for centuries. But it is now undergoing change, though slowly. Just as the glass in a greenhouse holds the sun’s warmth inside, atmosphere traps the sun’s heat near the earth’s surface and keeps it warm. This is called natural greenhouse effect because it maintains the temperature and makes the earth perfect for life. In a greenhouse, solar radiations pass through the transparent glass and heat up the soil and the plants. The warm soil and plants emit infrared radiations. Since glass is opaque to infrared radiations (thermal region), it partly reflects and partly absorbs these radiations. This mechanism keeps the energy of the sun trapped in the greenhouse. Similarly, carbon dioxide molecules also trap heat as they are transparent to sunlight but not to the heat radiation. If the amount of carbon dioxide crosses the delicate proportion of 0.03 per cent, the natural greenhouse balance may get disturbed. Carbon dioxide is the major contributor to global warming. \n"
          ],
          "name": "stdout"
        }
      ]
    },
    {
      "cell_type": "code",
      "metadata": {
        "colab": {
          "base_uri": "https://localhost:8080/"
        },
        "id": "PEIRuhXvh3zp",
        "outputId": "8ab2070e-d82e-44b0-a5d3-a78a70a33531"
      },
      "source": [
        "ask_question(\"what is the ozone hole\") #wrong answer\n"
      ],
      "execution_count": null,
      "outputs": [
        {
          "output_type": "stream",
          "text": [
            "answer: ozone hole\n",
            "context from corpus: In 1980s atmospheric scientists working in Antarctica reported about depletion of ozone layer commonly known as ozone hole over the South Pole. It was found that a unique set of conditions was responsible for the ozone hole. In summer season, nitrogen dioxide and methane react with chlorine monoxide (reaction iv) and chlorine atoms (reaction v) forming chlorine sinks, preventing much ozone depletion, whereas in winter, special type of clouds called polar stratospheric clouds are formed over Antarctica. These polar stratospheric clouds provide surface on which chlorine nitrate formed (reaction iv) gets hydrolysed to form hypochlorous acid (reaction (vi)). It also reacts with hydrogen chloride produced as per reaction (v) to give molecular chlorine. When sunlight returns to the Antarctica in the spring, the sun’s warmth breaks up the clouds and HOCl and Cl2 are photolysed by sunlight, as given in reactions (viii) and (ix). The chlorine radicals thus formed, initiate the chain reaction for ozone depletion as described earlier. \n"
          ],
          "name": "stdout"
        }
      ]
    },
    {
      "cell_type": "code",
      "metadata": {
        "colab": {
          "base_uri": "https://localhost:8080/"
        },
        "id": "Qz-CQBjdiYjY",
        "outputId": "eeb6ed35-7ed3-4afe-f24f-50f710c5bb22"
      },
      "source": [
        "ask_question(\"what is green chemistry\")"
      ],
      "execution_count": null,
      "outputs": [
        {
          "output_type": "stream",
          "text": [
            "answer: a production process that would bring about minimum pollution or deterioration to the environment\n",
            "context from corpus: The solution of this problem does not lie in stopping the process of development that has been set in; but to discover methods, which would help in the reduction of deterioration of the environment. Green chemistry is a way of thinking and is about utilising the existing knowledge and principles of chemistry and other sciences to reduce the adverse impact on environment. Green chemistry is a production process that would bring about minimum pollution or deterioration to the environment. The byproducts generated during a process, if not used gainfully, add to the environmental pollution. Such processes are not only environmental unfriendly but also cost-ineffective. The waste generation and its disposal both are economically unsound. Utilisation of existing knowledge base for reducing the chemical hazards along with the developmental activities is the foundation of green chemistry. Have you perceived the idea of green chemistry? It is well known that organic solvents such as benzene, toluene, carbon tetrachloride etc., are highly toxic. One should be careful while using them. \n"
          ],
          "name": "stdout"
        }
      ]
    },
    {
      "cell_type": "code",
      "metadata": {
        "colab": {
          "base_uri": "https://localhost:8080/"
        },
        "id": "XxQe_d9xjQzn",
        "outputId": "8b9b5179-da55-4087-fa47-ccec9f525534"
      },
      "source": [
        "ask_question(\"who launched the clean india mission\")"
      ],
      "execution_count": null,
      "outputs": [
        {
          "output_type": "stream",
          "text": [
            "answer: the Government of India\n",
            "context from corpus: You must be aware of the ‘Swachh Bharat Abhiyan’ or ‘Clean India Mission’ launched by the Government of India. \n"
          ],
          "name": "stdout"
        }
      ]
    },
    {
      "cell_type": "code",
      "metadata": {
        "colab": {
          "base_uri": "https://localhost:8080/"
        },
        "id": "mcjAqQDMjzIm",
        "outputId": "a19deb52-d327-40c9-8fd8-a9e1d7a86eac"
      },
      "source": [
        "ask_question(\"what is O3 called\")"
      ],
      "execution_count": null,
      "outputs": [
        {
          "output_type": "stream",
          "text": [
            "answer: ozone\n",
            "context from corpus: The upper stratosphere consists of considerable amount of ozone (O3), which protects us from the harmful ultraviolet (UV) radiations (λ 255 nm) coming from the sun. These radiations cause skin cancer (melanoma) in humans. Therefore, it is important to maintain the ozone shield. Ozone in the stratosphere is a product of UV radiations acting on dioxygen (O2) molecules. The UV radiations split apart molecular oxygen into free oxygen (O) atoms. These oxygen atoms combine with the molecular oxygen to form ozone. \n"
          ],
          "name": "stdout"
        }
      ]
    },
    {
      "cell_type": "code",
      "metadata": {
        "colab": {
          "base_uri": "https://localhost:8080/"
        },
        "id": "TqRGWlqikHQw",
        "outputId": "208469fd-8c15-4add-f6d5-900eb5935cf7"
      },
      "source": [
        "ask_question(\"what is the source of harmful ultraviolet radiations\")"
      ],
      "execution_count": null,
      "outputs": [
        {
          "output_type": "stream",
          "text": [
            "answer: the sun\n",
            "context from corpus: The upper stratosphere consists of considerable amount of ozone (O3), which protects us from the harmful ultraviolet (UV) radiations (λ 255 nm) coming from the sun. These radiations cause skin cancer (melanoma) in humans. Therefore, it is important to maintain the ozone shield. Ozone in the stratosphere is a product of UV radiations acting on dioxygen (O2) molecules. The UV radiations split apart molecular oxygen into free oxygen (O) atoms. These oxygen atoms combine with the molecular oxygen to form ozone. \n"
          ],
          "name": "stdout"
        }
      ]
    }
  ]
}