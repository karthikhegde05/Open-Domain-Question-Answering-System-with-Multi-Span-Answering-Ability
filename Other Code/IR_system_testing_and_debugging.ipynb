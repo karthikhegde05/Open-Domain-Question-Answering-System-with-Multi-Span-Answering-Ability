{
  "nbformat": 4,
  "nbformat_minor": 0,
  "metadata": {
    "colab": {
      "name": "IR_system.ipynb",
      "provenance": [],
      "collapsed_sections": []
    },
    "kernelspec": {
      "display_name": "Python 3",
      "name": "python3"
    },
    "language_info": {
      "name": "python"
    }
  },
  "cells": [
    {
      "cell_type": "code",
      "metadata": {
        "id": "gW1N6p3R0RRE",
        "colab": {
          "base_uri": "https://localhost:8080/"
        },
        "outputId": "9837081a-f19e-4320-98d1-69f939547293"
      },
      "source": [
        "\n",
        "import json\n",
        "from tensorflow import keras\n",
        "\n",
        "eval_data_url = \"https://rajpurkar.github.io/SQuAD-explorer/dataset/dev-v1.1.json\"\n",
        "eval_path = keras.utils.get_file(\"eval.json\", eval_data_url)\n",
        "\n",
        "\n",
        "with open(eval_path) as f:\n",
        "    raw_eval_data = json.load(f)"
      ],
      "execution_count": null,
      "outputs": [
        {
          "output_type": "stream",
          "text": [
            "Downloading data from https://rajpurkar.github.io/SQuAD-explorer/dataset/dev-v1.1.json\n",
            "4857856/4854279 [==============================] - 0s 0us/step\n"
          ],
          "name": "stdout"
        }
      ]
    },
    {
      "cell_type": "code",
      "metadata": {
        "colab": {
          "base_uri": "https://localhost:8080/"
        },
        "id": "qefMVLXL3FO9",
        "outputId": "43476671-aed5-4f05-e232-a2676951ead2"
      },
      "source": [
        "raw_eval_data[\"data\"][0].keys()"
      ],
      "execution_count": null,
      "outputs": [
        {
          "output_type": "execute_result",
          "data": {
            "text/plain": [
              "dict_keys(['title', 'paragraphs'])"
            ]
          },
          "metadata": {
            "tags": []
          },
          "execution_count": 2
        }
      ]
    },
    {
      "cell_type": "code",
      "metadata": {
        "colab": {
          "base_uri": "https://localhost:8080/"
        },
        "id": "NsN4gLFx3eG-",
        "outputId": "00327c15-6783-4edf-9835-a57efbeb4297"
      },
      "source": [
        "raw_eval_data[\"data\"][30]['paragraphs'][0][\"qas\"][1]"
      ],
      "execution_count": null,
      "outputs": [
        {
          "output_type": "execute_result",
          "data": {
            "text/plain": [
              "{'answers': [{'answer_start': 538, 'text': 'academic'},\n",
              "  {'answer_start': 538, 'text': 'academic'},\n",
              "  {'answer_start': 538, 'text': 'academic'}],\n",
              " 'id': '572746addd62a815002e9a5f',\n",
              " 'question': 'Along with sport and art, what is a type of talent scholarship?'}"
            ]
          },
          "metadata": {
            "tags": []
          },
          "execution_count": 78
        }
      ]
    },
    {
      "cell_type": "code",
      "metadata": {
        "id": "ocFDAHFf4OlG"
      },
      "source": [
        "question_to_index = {}\n",
        "index_to_corpus = []\n",
        "corpus = []\n",
        "\n",
        "for i in range( len(raw_eval_data[\"data\"]) ):\n",
        "    for j in range( len(raw_eval_data[\"data\"][i][\"paragraphs\"])):\n",
        "\n",
        "        corpus.append(raw_eval_data[\"data\"][i][\"paragraphs\"][j][\"context\"])\n",
        "        index_to_corpus.append((i,j))\n",
        "\n",
        "        for k in raw_eval_data[\"data\"][i][\"paragraphs\"][j][\"qas\"]:\n",
        "            question_to_index[k['id']] = (i,j)\n"
      ],
      "execution_count": null,
      "outputs": []
    },
    {
      "cell_type": "code",
      "metadata": {
        "colab": {
          "base_uri": "https://localhost:8080/"
        },
        "id": "jIWQKdCo8oJ-",
        "outputId": "048ee262-9941-4d8e-e2f8-529a87168de3"
      },
      "source": [
        "len(question_to_index)"
      ],
      "execution_count": null,
      "outputs": [
        {
          "output_type": "execute_result",
          "data": {
            "text/plain": [
              "10570"
            ]
          },
          "metadata": {
            "tags": []
          },
          "execution_count": 28
        }
      ]
    },
    {
      "cell_type": "code",
      "metadata": {
        "colab": {
          "base_uri": "https://localhost:8080/"
        },
        "id": "lvY60zCe8qrV",
        "outputId": "089dd80c-927d-458b-bf3a-81d0e294c09b"
      },
      "source": [
        "!pip install rank_bm25"
      ],
      "execution_count": null,
      "outputs": [
        {
          "output_type": "stream",
          "text": [
            "Collecting rank_bm25\n",
            "  Downloading https://files.pythonhosted.org/packages/16/5a/23ed3132063a0684ea66fb410260c71c4ffda3b99f8f1c021d1e245401b5/rank_bm25-0.2.1-py3-none-any.whl\n",
            "Requirement already satisfied: numpy in /usr/local/lib/python3.7/dist-packages (from rank_bm25) (1.19.5)\n",
            "Installing collected packages: rank-bm25\n",
            "Successfully installed rank-bm25-0.2.1\n"
          ],
          "name": "stdout"
        }
      ]
    },
    {
      "cell_type": "code",
      "metadata": {
        "id": "41X70k6t8-6v"
      },
      "source": [
        "from rank_bm25 import BM25Okapi\n",
        "\n",
        "\n",
        "\n",
        "tokenized_corpus = [doc.split(\" \") for doc in preprocessed_corpus]\n",
        "\n",
        "bm25 = BM25Okapi(tokenized_corpus)"
      ],
      "execution_count": null,
      "outputs": []
    },
    {
      "cell_type": "code",
      "metadata": {
        "id": "yqjujfcJ9J6n",
        "colab": {
          "base_uri": "https://localhost:8080/"
        },
        "outputId": "5c043b7d-90bf-4712-99c4-adb1f23a1b8e"
      },
      "source": [
        "query = \"Along with sport and art, what is a type of talent scholarship\"\n",
        "query.lower().split(\" \")\n",
        "\n",
        "# # scores = bm25.get_scores(tokenized_query)\n",
        "# bm25.get_top_n(tokenized_query, corpus, n=1)"
      ],
      "execution_count": null,
      "outputs": [
        {
          "output_type": "execute_result",
          "data": {
            "text/plain": [
              "['along',\n",
              " 'with',\n",
              " 'sport',\n",
              " 'and',\n",
              " 'art,',\n",
              " 'what',\n",
              " 'is',\n",
              " 'a',\n",
              " 'type',\n",
              " 'of',\n",
              " 'talent',\n",
              " 'scholarship']"
            ]
          },
          "metadata": {
            "tags": []
          },
          "execution_count": 50
        }
      ]
    },
    {
      "cell_type": "code",
      "metadata": {
        "colab": {
          "base_uri": "https://localhost:8080/"
        },
        "id": "hgpe8dqc93oa",
        "outputId": "22f798a7-69e7-4d26-8d57-e0e4432ab288"
      },
      "source": [
        "better = []\n",
        "\n",
        "for i in range(len(scores)):\n",
        "    if scores[i] > scores[1323]:\n",
        "        better.append(i)\n",
        "\n",
        "better\n"
      ],
      "execution_count": null,
      "outputs": [
        {
          "output_type": "execute_result",
          "data": {
            "text/plain": [
              "[]"
            ]
          },
          "metadata": {
            "tags": []
          },
          "execution_count": 84
        }
      ]
    },
    {
      "cell_type": "code",
      "metadata": {
        "colab": {
          "base_uri": "https://localhost:8080/"
        },
        "id": "YG5erLa2Bqu9",
        "outputId": "15242c40-c139-4087-ddef-28dad686fc24"
      },
      "source": [
        "question_to_index[\"572746addd62a815002e9a5f\"]"
      ],
      "execution_count": null,
      "outputs": [
        {
          "output_type": "execute_result",
          "data": {
            "text/plain": [
              "(30, 0)"
            ]
          },
          "metadata": {
            "tags": []
          },
          "execution_count": 12
        }
      ]
    },
    {
      "cell_type": "code",
      "metadata": {
        "colab": {
          "base_uri": "https://localhost:8080/"
        },
        "id": "vjS-2CiBCcka",
        "outputId": "0279022f-ce68-4b04-a279-f5ac48ad9832"
      },
      "source": [
        "index_to_corpus.index((30,0))"
      ],
      "execution_count": null,
      "outputs": [
        {
          "output_type": "execute_result",
          "data": {
            "text/plain": [
              "1323"
            ]
          },
          "metadata": {
            "tags": []
          },
          "execution_count": 13
        }
      ]
    },
    {
      "cell_type": "code",
      "metadata": {
        "colab": {
          "base_uri": "https://localhost:8080/"
        },
        "id": "41B45Sv2_qmm",
        "outputId": "c7d1aa8e-e55b-4dd9-c359-cadf5da51fb6"
      },
      "source": [
        "scores[0]"
      ],
      "execution_count": null,
      "outputs": [
        {
          "output_type": "execute_result",
          "data": {
            "text/plain": [
              "19.224355746414272"
            ]
          },
          "metadata": {
            "tags": []
          },
          "execution_count": 57
        }
      ]
    },
    {
      "cell_type": "code",
      "metadata": {
        "colab": {
          "base_uri": "https://localhost:8080/"
        },
        "id": "2A9m2vto_fmr",
        "outputId": "d1f900cc-0a08-4b9d-fda2-a76c0848cddb"
      },
      "source": [
        ""
      ],
      "execution_count": null,
      "outputs": [
        {
          "output_type": "execute_result",
          "data": {
            "text/plain": [
              "[0, 1, 3, 7, 22, 24, 29, 30, 53]"
            ]
          },
          "metadata": {
            "tags": []
          },
          "execution_count": 53
        }
      ]
    },
    {
      "cell_type": "code",
      "metadata": {
        "colab": {
          "base_uri": "https://localhost:8080/"
        },
        "id": "2SkC10Wb9wLK",
        "outputId": "cc403fc8-543d-45c7-8633-a378f233b273"
      },
      "source": [
        "corpus.index(i[2])"
      ],
      "execution_count": null,
      "outputs": [
        {
          "output_type": "execute_result",
          "data": {
            "text/plain": [
              "29"
            ]
          },
          "metadata": {
            "tags": []
          },
          "execution_count": 43
        }
      ]
    },
    {
      "cell_type": "code",
      "metadata": {
        "colab": {
          "base_uri": "https://localhost:8080/",
          "height": 86
        },
        "id": "MQCCA1-Q95o5",
        "outputId": "2c55b7f8-e2c9-4625-94ed-906f90c69daf"
      },
      "source": [
        "corpus[0]"
      ],
      "execution_count": null,
      "outputs": [
        {
          "output_type": "execute_result",
          "data": {
            "application/vnd.google.colaboratory.intrinsic+json": {
              "type": "string"
            },
            "text/plain": [
              "'Super Bowl 50 was an American football game to determine the champion of the National Football League (NFL) for the 2015 season. The American Football Conference (AFC) champion Denver Broncos defeated the National Football Conference (NFC) champion Carolina Panthers 24–10 to earn their third Super Bowl title. The game was played on February 7, 2016, at Levi\\'s Stadium in the San Francisco Bay Area at Santa Clara, California. As this was the 50th Super Bowl, the league emphasized the \"golden anniversary\" with various gold-themed initiatives, as well as temporarily suspending the tradition of naming each Super Bowl game with Roman numerals (under which the game would have been known as \"Super Bowl L\"), so that the logo could prominently feature the Arabic numerals 50.'"
            ]
          },
          "metadata": {
            "tags": []
          },
          "execution_count": 70
        }
      ]
    },
    {
      "cell_type": "code",
      "metadata": {
        "id": "PJQJLwHv6xew"
      },
      "source": [
        "queries = []"
      ],
      "execution_count": null,
      "outputs": []
    },
    {
      "cell_type": "code",
      "metadata": {
        "id": "jiNJ1Bqv-cH6"
      },
      "source": [
        "correct = 0\n",
        "wrong = 0\n",
        "\n",
        "for i in range( len(raw_eval_data[\"data\"]) ):\n",
        "    print(i)\n",
        "    for j in range( len(raw_eval_data[\"data\"][i][\"paragraphs\"])):\n",
        "\n",
        "\n",
        "        for k in raw_eval_data[\"data\"][i][\"paragraphs\"][j][\"qas\"]:\n",
        "            query = k[\"question\"]\n",
        "            query = nlp(query)\n",
        "  \n",
        "            token_list = []\n",
        "            for token in query:\n",
        "                token_list.append(token)\n",
        "\n",
        "            tokenized_query = ([token.lemma_.lower() for token in token_list])\n",
        "            queries.append(tokenized_query)\n",
        "            out = bm25.get_top_n(tokenized_query, preprocessed_corpus, n=1)\n",
        "            \n",
        "            truth = preprocessed_corpus[index_to_corpus.index(question_to_index[k[\"id\"]])]\n",
        "\n",
        "            if (truth in out):\n",
        "\n",
        "                correct += 1\n",
        "            else:\n",
        "                wrong += 1    \n",
        "\n",
        "\n",
        "print(correct,wrong)"
      ],
      "execution_count": null,
      "outputs": []
    },
    {
      "cell_type": "code",
      "metadata": {
        "colab": {
          "base_uri": "https://localhost:8080/"
        },
        "id": "m3Wj0Ybm9T1p",
        "outputId": "df43cd4c-e977-425f-91a7-b34927682154"
      },
      "source": [
        "correct = 0\n",
        "wrong = 0\n",
        "\n",
        "counter = 0\n",
        "\n",
        "for i in range( len(raw_eval_data[\"data\"]) ):\n",
        "    print(i)\n",
        "    for j in range( len(raw_eval_data[\"data\"][i][\"paragraphs\"])):\n",
        "\n",
        "\n",
        "        for k in raw_eval_data[\"data\"][i][\"paragraphs\"][j][\"qas\"]:\n",
        "\n",
        "\n",
        "            tokenized_query = queries[counter]\n",
        "            queries.append(tokenized_query)\n",
        "            out = bm25.get_top_n(tokenized_query, preprocessed_corpus, n=5)\n",
        "            \n",
        "            truth = preprocessed_corpus[index_to_corpus.index(question_to_index[k[\"id\"]])]\n",
        "\n",
        "            if (truth in out):\n",
        "\n",
        "                correct += 1\n",
        "            else:\n",
        "                wrong += 1    \n",
        "\n",
        "            counter += 1    \n",
        "\n",
        "\n",
        "print(correct,wrong)"
      ],
      "execution_count": null,
      "outputs": [
        {
          "output_type": "stream",
          "text": [
            "0\n",
            "1\n",
            "2\n",
            "3\n",
            "4\n",
            "5\n",
            "6\n",
            "7\n",
            "8\n",
            "9\n",
            "10\n",
            "11\n",
            "12\n",
            "13\n",
            "14\n",
            "15\n",
            "16\n",
            "17\n",
            "18\n",
            "19\n",
            "20\n",
            "21\n",
            "22\n",
            "23\n",
            "24\n",
            "25\n",
            "26\n",
            "27\n",
            "28\n",
            "29\n",
            "30\n",
            "31\n",
            "32\n",
            "33\n",
            "34\n",
            "35\n",
            "36\n",
            "37\n",
            "38\n",
            "39\n",
            "40\n",
            "41\n",
            "42\n",
            "43\n",
            "44\n",
            "45\n",
            "46\n",
            "47\n",
            "9462 1108\n"
          ],
          "name": "stdout"
        }
      ]
    },
    {
      "cell_type": "markdown",
      "metadata": {
        "id": "QJhySbDEHSq0"
      },
      "source": [
        "n=1\n",
        "\n",
        "6178 4392"
      ]
    },
    {
      "cell_type": "code",
      "metadata": {
        "colab": {
          "base_uri": "https://localhost:8080/"
        },
        "id": "bG2YA9ew43u-",
        "outputId": "59dbc2eb-2450-44a8-973a-1a0852ac11c0"
      },
      "source": [
        "query = raw_eval_data[\"data\"][30][\"paragraphs\"][0][\"qas\"][1][\"question\"]\n",
        "query = nlp(query)\n",
        "\n",
        "token_list = []\n",
        "for token in query:\n",
        "    token_list.append(token)\n",
        "\n",
        "tokenized_query = ([token.lemma_.lower() for token in token_list])\n",
        "\n",
        "tokenized_query\n",
        "\n",
        "out = bm25.get_top_n(tokenized_query, preprocessed_corpus, n=1)\n",
        "\n",
        "truth = preprocessed_corpus[index_to_corpus.index(question_to_index[\"572746addd62a815002e9a5f\"])]\n",
        "\n",
        "print(out)\n",
        "print(truth)"
      ],
      "execution_count": null,
      "outputs": [
        {
          "output_type": "stream",
          "text": [
            "['private school , also know as independent school , non - governmental , or nonstate school , be not administer by local , state or national government ; thus , -pron- retain the right to select -pron- student and be fund in whole or in part by charge -pron- student tuition , rather than rely on mandatory taxation through public ( government ) funding ; at some private school student may be able to get a scholarship , which make the cost cheap , depend on a talent the student may have ( e.g. sport scholarship , art scholarship , academic scholarship ) , financial need , or tax credit scholarship that may be available .']\n",
            "private school , also know as independent school , non - governmental , or nonstate school , be not administer by local , state or national government ; thus , -pron- retain the right to select -pron- student and be fund in whole or in part by charge -pron- student tuition , rather than rely on mandatory taxation through public ( government ) funding ; at some private school student may be able to get a scholarship , which make the cost cheap , depend on a talent the student may have ( e.g. sport scholarship , art scholarship , academic scholarship ) , financial need , or tax credit scholarship that may be available .\n"
          ],
          "name": "stdout"
        }
      ]
    },
    {
      "cell_type": "code",
      "metadata": {
        "colab": {
          "base_uri": "https://localhost:8080/"
        },
        "id": "8cUMHOF5H418",
        "outputId": "aeac246c-6600-4b7f-978a-faa8e41395c8"
      },
      "source": [
        "correct/(correct + wrong)"
      ],
      "execution_count": null,
      "outputs": [
        {
          "output_type": "execute_result",
          "data": {
            "text/plain": [
              "0.7550614947965941"
            ]
          },
          "metadata": {
            "tags": []
          },
          "execution_count": 88
        }
      ]
    },
    {
      "cell_type": "code",
      "metadata": {
        "id": "dUplTEdyIAsY"
      },
      "source": [
        "preprocessed_corpus = []"
      ],
      "execution_count": null,
      "outputs": []
    },
    {
      "cell_type": "code",
      "metadata": {
        "id": "pVCICxAfoMBl"
      },
      "source": [
        "for i in range(len(corpus)):\n",
        "\n",
        "    preprocessed_corpus.append(corpus[i].lower())"
      ],
      "execution_count": null,
      "outputs": []
    },
    {
      "cell_type": "code",
      "metadata": {
        "colab": {
          "base_uri": "https://localhost:8080/",
          "height": 52
        },
        "id": "IrrMHdDbpDR_",
        "outputId": "205d0f01-47fa-45ef-86c5-4937f1c165c4"
      },
      "source": [
        "preprocessed_corpus[3]"
      ],
      "execution_count": null,
      "outputs": [
        {
          "output_type": "execute_result",
          "data": {
            "application/vnd.google.colaboratory.intrinsic+json": {
              "type": "string"
            },
            "text/plain": [
              "'cbs broadcast super bowl 50 in the u.s. , and charge an average of $ 5 million for a 30-second commercial during the game . the super bowl 50 halftime show be headline by the british rock group coldplay with special guest performer beyoncé and bruno mars , who headline the super bowl xlvii and super bowl xlviii halftime show , respectively . -pron- be the third - most watch u.s. broadcast ever .'"
            ]
          },
          "metadata": {
            "tags": []
          },
          "execution_count": 39
        }
      ]
    },
    {
      "cell_type": "code",
      "metadata": {
        "colab": {
          "base_uri": "https://localhost:8080/"
        },
        "id": "6DpLAPGpwO0_",
        "outputId": "aad104b2-38f6-42a5-d89e-76a8a20a5543"
      },
      "source": [
        "import spacy\n",
        "nlp = spacy.load('en_core_web_sm')\n",
        "  \n",
        "# Create a Doc object\n",
        "doc = nlp(corpus[0])\n",
        "  \n",
        "# Create list of tokens from given string\n",
        "tokens = []\n",
        "for token in doc:\n",
        "    tokens.append(token)\n",
        "  \n",
        "print(tokens)\n",
        "#> [the, bats, saw, the, cats, with, best, stripes, hanging, upside, down, by, their, feet]\n",
        "  \n",
        "lemmatized_sentence = \" \".join([token.lemma_ for token in doc])\n",
        "  \n",
        "print(lemmatized_sentence)"
      ],
      "execution_count": null,
      "outputs": [
        {
          "output_type": "stream",
          "text": [
            "[Super, Bowl, 50, was, an, American, football, game, to, determine, the, champion, of, the, National, Football, League, (, NFL, ), for, the, 2015, season, ., The, American, Football, Conference, (, AFC, ), champion, Denver, Broncos, defeated, the, National, Football, Conference, (, NFC, ), champion, Carolina, Panthers, 24–10, to, earn, their, third, Super, Bowl, title, ., The, game, was, played, on, February, 7, ,, 2016, ,, at, Levi, 's, Stadium, in, the, San, Francisco, Bay, Area, at, Santa, Clara, ,, California, ., As, this, was, the, 50th, Super, Bowl, ,, the, league, emphasized, the, \", golden, anniversary, \", with, various, gold, -, themed, initiatives, ,, as, well, as, temporarily, suspending, the, tradition, of, naming, each, Super, Bowl, game, with, Roman, numerals, (, under, which, the, game, would, have, been, known, as, \", Super, Bowl, L, \", ), ,, so, that, the, logo, could, prominently, feature, the, Arabic, numerals, 50, .]\n",
            "Super Bowl 50 be an american football game to determine the champion of the National Football League ( NFL ) for the 2015 season . the American Football Conference ( AFC ) champion Denver Broncos defeat the National Football Conference ( NFC ) champion Carolina Panthers 24–10 to earn -PRON- third Super Bowl title . the game be play on February 7 , 2016 , at Levi 's Stadium in the San Francisco Bay Area at Santa Clara , California . as this be the 50th Super Bowl , the league emphasize the \" golden anniversary \" with various gold - theme initiative , as well as temporarily suspend the tradition of name each Super Bowl game with roman numeral ( under which the game would have be know as \" Super Bowl L \" ) , so that the logo could prominently feature the arabic numeral 50 .\n"
          ],
          "name": "stdout"
        }
      ]
    },
    {
      "cell_type": "code",
      "metadata": {
        "id": "A0X6zxn7wVEX"
      },
      "source": [
        "for i in range(len(corpus)):\n",
        "\n",
        "    sentence = nlp(corpus[i])\n",
        "\n",
        "    token_list = []\n",
        "\n",
        "    for token in sentence:\n",
        "        token_list.append(token)\n",
        "\n",
        "    preprocessed_corpus[i] = \" \".join([token.lemma_ for token in token_list]).lower()\n",
        "  "
      ],
      "execution_count": null,
      "outputs": []
    },
    {
      "cell_type": "code",
      "metadata": {
        "id": "yPnTGiT9pquc"
      },
      "source": [
        "tokenized_corpus = [doc.split(\" \") for doc in preprocessed_corpus]"
      ],
      "execution_count": null,
      "outputs": []
    },
    {
      "cell_type": "code",
      "metadata": {
        "colab": {
          "base_uri": "https://localhost:8080/",
          "height": 52
        },
        "id": "K8L2wHpyy31W",
        "outputId": "1320b782-6c2e-4943-e1ea-a6d56dcf820e"
      },
      "source": [
        "preprocessed_corpus[7]"
      ],
      "execution_count": null,
      "outputs": [
        {
          "output_type": "execute_result",
          "data": {
            "application/vnd.google.colaboratory.intrinsic+json": {
              "type": "string"
            },
            "text/plain": [
              "\"on may 21 , 2013 , nfl owner at -pron- spring meeting in boston vote and award the game to levi 's stadium . the $ 1.2 billion stadium open in 2014 . -pron- be the first super bowl hold in the san francisco bay area since super bowl xix in 1985 , and the first in california since super bowl xxxvii take place in san diego in 2003 .\""
            ]
          },
          "metadata": {
            "tags": []
          },
          "execution_count": 18
        }
      ]
    },
    {
      "cell_type": "code",
      "metadata": {
        "id": "NgcQImJ0ywcY"
      },
      "source": [
        "from gensim.models import Word2Vec\n",
        "\n",
        "w2v_model = Word2Vec(tokenized_corpus , size=100, min_count=2,window=5, sg=1,workers=4)"
      ],
      "execution_count": null,
      "outputs": []
    },
    {
      "cell_type": "code",
      "metadata": {
        "colab": {
          "base_uri": "https://localhost:8080/"
        },
        "id": "r6aejPIuPWzV",
        "outputId": "bb054e1e-3eea-44b3-bba3-c4dcd91da855"
      },
      "source": [
        "len(temp)"
      ],
      "execution_count": null,
      "outputs": [
        {
          "output_type": "execute_result",
          "data": {
            "text/plain": [
              "33777"
            ]
          },
          "metadata": {
            "tags": []
          },
          "execution_count": 102
        }
      ]
    },
    {
      "cell_type": "code",
      "metadata": {
        "colab": {
          "base_uri": "https://localhost:8080/"
        },
        "id": "yscrB0AUFuMK",
        "outputId": "826ef9b7-2dd1-43c8-f3bf-836a4829cb89"
      },
      "source": [
        "\"\" in w2v_model.wv.vocab"
      ],
      "execution_count": null,
      "outputs": [
        {
          "output_type": "execute_result",
          "data": {
            "text/plain": [
              "True"
            ]
          },
          "metadata": {
            "tags": []
          },
          "execution_count": 23
        }
      ]
    },
    {
      "cell_type": "code",
      "metadata": {
        "id": "Faz8c22GGhb7"
      },
      "source": [
        "import numpy as np"
      ],
      "execution_count": null,
      "outputs": []
    },
    {
      "cell_type": "code",
      "metadata": {
        "colab": {
          "base_uri": "https://localhost:8080/"
        },
        "id": "7rc_wz7OGWBO",
        "outputId": "af95261c-39d7-4307-eee5-cce4f9f5e628"
      },
      "source": [
        "np.zeros((300,))"
      ],
      "execution_count": null,
      "outputs": [
        {
          "output_type": "execute_result",
          "data": {
            "text/plain": [
              "array([0., 0., 0., 0., 0., 0., 0., 0., 0., 0., 0., 0., 0., 0., 0., 0., 0.,\n",
              "       0., 0., 0., 0., 0., 0., 0., 0., 0., 0., 0., 0., 0., 0., 0., 0., 0.,\n",
              "       0., 0., 0., 0., 0., 0., 0., 0., 0., 0., 0., 0., 0., 0., 0., 0., 0.,\n",
              "       0., 0., 0., 0., 0., 0., 0., 0., 0., 0., 0., 0., 0., 0., 0., 0., 0.,\n",
              "       0., 0., 0., 0., 0., 0., 0., 0., 0., 0., 0., 0., 0., 0., 0., 0., 0.,\n",
              "       0., 0., 0., 0., 0., 0., 0., 0., 0., 0., 0., 0., 0., 0., 0., 0., 0.,\n",
              "       0., 0., 0., 0., 0., 0., 0., 0., 0., 0., 0., 0., 0., 0., 0., 0., 0.,\n",
              "       0., 0., 0., 0., 0., 0., 0., 0., 0., 0., 0., 0., 0., 0., 0., 0., 0.,\n",
              "       0., 0., 0., 0., 0., 0., 0., 0., 0., 0., 0., 0., 0., 0., 0., 0., 0.,\n",
              "       0., 0., 0., 0., 0., 0., 0., 0., 0., 0., 0., 0., 0., 0., 0., 0., 0.,\n",
              "       0., 0., 0., 0., 0., 0., 0., 0., 0., 0., 0., 0., 0., 0., 0., 0., 0.,\n",
              "       0., 0., 0., 0., 0., 0., 0., 0., 0., 0., 0., 0., 0., 0., 0., 0., 0.,\n",
              "       0., 0., 0., 0., 0., 0., 0., 0., 0., 0., 0., 0., 0., 0., 0., 0., 0.,\n",
              "       0., 0., 0., 0., 0., 0., 0., 0., 0., 0., 0., 0., 0., 0., 0., 0., 0.,\n",
              "       0., 0., 0., 0., 0., 0., 0., 0., 0., 0., 0., 0., 0., 0., 0., 0., 0.,\n",
              "       0., 0., 0., 0., 0., 0., 0., 0., 0., 0., 0., 0., 0., 0., 0., 0., 0.,\n",
              "       0., 0., 0., 0., 0., 0., 0., 0., 0., 0., 0., 0., 0., 0., 0., 0., 0.,\n",
              "       0., 0., 0., 0., 0., 0., 0., 0., 0., 0., 0.])"
            ]
          },
          "metadata": {
            "tags": []
          },
          "execution_count": 79
        }
      ]
    },
    {
      "cell_type": "code",
      "metadata": {
        "colab": {
          "base_uri": "https://localhost:8080/"
        },
        "id": "rvub6LQU_1vc",
        "outputId": "7bb79df9-acda-4ff5-d954-1622e0aa015e"
      },
      "source": [
        "print('Vocabulary size:', len(w2v_model.wv.vocab))"
      ],
      "execution_count": null,
      "outputs": [
        {
          "output_type": "stream",
          "text": [
            "Vocabulary size: 10378\n"
          ],
          "name": "stdout"
        }
      ]
    },
    {
      "cell_type": "code",
      "metadata": {
        "id": "xK-jXk2d_MNA",
        "colab": {
          "base_uri": "https://localhost:8080/",
          "height": 197
        },
        "outputId": "129c4444-ef0c-4fba-cbcd-e31dd1fad1b0"
      },
      "source": [
        "doc_embeddings = []\n",
        "total = 0\n",
        "for i in tokenized_corpus:\n",
        "\n",
        "    embedding = []\n",
        "    count = 0\n",
        "\n",
        "    for j in range(len(i)):\n",
        "\n",
        "        if(i[j] in w2v_model.wv.vocab):\n",
        "            embedding.append(w2v_model.wv.word_vec(i[j]))\n",
        "        else:\n",
        "            embedding.append(np.random.rand(100))\n",
        "\n",
        "    doc_embeddings.append(np.mean(embedding,axis = 0))\n"
      ],
      "execution_count": null,
      "outputs": [
        {
          "output_type": "error",
          "ename": "NameError",
          "evalue": "ignored",
          "traceback": [
            "\u001b[0;31m---------------------------------------------------------------------------\u001b[0m",
            "\u001b[0;31mNameError\u001b[0m                                 Traceback (most recent call last)",
            "\u001b[0;32m<ipython-input-13-92b66d1b7dec>\u001b[0m in \u001b[0;36m<module>\u001b[0;34m()\u001b[0m\n\u001b[1;32m     13\u001b[0m             \u001b[0membedding\u001b[0m\u001b[0;34m.\u001b[0m\u001b[0mappend\u001b[0m\u001b[0;34m(\u001b[0m\u001b[0mnp\u001b[0m\u001b[0;34m.\u001b[0m\u001b[0mrandom\u001b[0m\u001b[0;34m.\u001b[0m\u001b[0mrand\u001b[0m\u001b[0;34m(\u001b[0m\u001b[0;36m100\u001b[0m\u001b[0;34m)\u001b[0m\u001b[0;34m)\u001b[0m\u001b[0;34m\u001b[0m\u001b[0;34m\u001b[0m\u001b[0m\n\u001b[1;32m     14\u001b[0m \u001b[0;34m\u001b[0m\u001b[0m\n\u001b[0;32m---> 15\u001b[0;31m     \u001b[0mdoc_embeddings\u001b[0m\u001b[0;34m.\u001b[0m\u001b[0mappend\u001b[0m\u001b[0;34m(\u001b[0m\u001b[0mnp\u001b[0m\u001b[0;34m.\u001b[0m\u001b[0mmean\u001b[0m\u001b[0;34m(\u001b[0m\u001b[0membedding\u001b[0m\u001b[0;34m,\u001b[0m\u001b[0maxis\u001b[0m \u001b[0;34m=\u001b[0m \u001b[0;36m0\u001b[0m\u001b[0;34m)\u001b[0m\u001b[0;34m)\u001b[0m\u001b[0;34m\u001b[0m\u001b[0;34m\u001b[0m\u001b[0m\n\u001b[0m",
            "\u001b[0;31mNameError\u001b[0m: name 'np' is not defined"
          ]
        }
      ]
    },
    {
      "cell_type": "code",
      "metadata": {
        "colab": {
          "base_uri": "https://localhost:8080/"
        },
        "id": "-q6zAaPoHgjy",
        "outputId": "14e37dbf-3b35-4fdf-92e0-e2fd6e07dd5c"
      },
      "source": [
        "len(doc_embeddings)"
      ],
      "execution_count": null,
      "outputs": [
        {
          "output_type": "execute_result",
          "data": {
            "text/plain": [
              "2067"
            ]
          },
          "metadata": {
            "tags": []
          },
          "execution_count": 81
        }
      ]
    },
    {
      "cell_type": "code",
      "metadata": {
        "colab": {
          "base_uri": "https://localhost:8080/"
        },
        "id": "wlrYRCJoHkFx",
        "outputId": "6abd59a9-5181-465f-dc45-c0673ac50ba0"
      },
      "source": [
        "correct = 0\n",
        "wrong = 0\n",
        "better = 0\n",
        "counter = 0\n",
        "\n",
        "for i in range( len(raw_eval_data[\"data\"]) ):\n",
        "    print(i)\n",
        "    for j in range( len(raw_eval_data[\"data\"][i][\"paragraphs\"])):\n",
        "\n",
        "\n",
        "        for k in raw_eval_data[\"data\"][i][\"paragraphs\"][j][\"qas\"]:\n",
        "\n",
        "\n",
        "            tokenized_query = queries[counter]\n",
        "            embedding = []\n",
        "            count = 0\n",
        "\n",
        "            for l in tokenized_query:\n",
        "\n",
        "                if(l in w2v_model.wv.vocab):\n",
        "                    embedding.append(w2v_model.wv.word_vec(l))\n",
        "                else:\n",
        "                    embedding.append(np.random.rand(100))\n",
        "\n",
        "            embedding = np.mean(embedding,axis = 0)\n",
        "\n",
        "            out = cosine_similarity(np.array(doc_embeddings), embedding.reshape(1, -1))\n",
        "            \n",
        "            truth = index_to_corpus.index(question_to_index[k[\"id\"]])\n",
        "\n",
        "        \n",
        "            \n",
        "            for l in range(len(out)):\n",
        "\n",
        "                if(out[l] > out[truth]):\n",
        "                    better+=1\n",
        "\n",
        "            # if (truth == out):\n",
        "\n",
        "            #     correct += 1\n",
        "            # else:\n",
        "            #     wrong += 1 \n",
        "            #     # print(out, truth)\n",
        "            #     # input()   \n",
        "\n",
        "            counter += 1    \n",
        "\n",
        "\n",
        "# print(correct,wrong)\n",
        "print(better/counter)"
      ],
      "execution_count": null,
      "outputs": [
        {
          "output_type": "stream",
          "text": [
            "0\n",
            "1\n",
            "2\n",
            "3\n",
            "4\n",
            "5\n",
            "6\n",
            "7\n",
            "8\n",
            "9\n",
            "10\n",
            "11\n",
            "12\n",
            "13\n",
            "14\n",
            "15\n",
            "16\n",
            "17\n",
            "18\n",
            "19\n",
            "20\n",
            "21\n",
            "22\n",
            "23\n",
            "24\n",
            "25\n",
            "26\n",
            "27\n",
            "28\n",
            "29\n",
            "30\n",
            "31\n",
            "32\n",
            "33\n",
            "34\n",
            "35\n",
            "36\n",
            "37\n",
            "38\n",
            "39\n",
            "40\n",
            "41\n",
            "42\n",
            "43\n",
            "44\n",
            "45\n",
            "46\n",
            "47\n",
            "153.52932828760643\n"
          ],
          "name": "stdout"
        }
      ]
    },
    {
      "cell_type": "code",
      "metadata": {
        "colab": {
          "base_uri": "https://localhost:8080/"
        },
        "id": "oTvBypMgJi2Y",
        "outputId": "0a9012ae-f1f5-4a97-952f-d5ea4828c441"
      },
      "source": [
        "queries[0]"
      ],
      "execution_count": null,
      "outputs": [
        {
          "output_type": "execute_result",
          "data": {
            "text/plain": [
              "['which',\n",
              " 'nfl',\n",
              " 'team',\n",
              " 'represent',\n",
              " 'the',\n",
              " 'afc',\n",
              " 'at',\n",
              " 'super',\n",
              " 'bowl',\n",
              " '50',\n",
              " '?']"
            ]
          },
          "metadata": {
            "tags": []
          },
          "execution_count": 109
        }
      ]
    },
    {
      "cell_type": "code",
      "metadata": {
        "colab": {
          "base_uri": "https://localhost:8080/"
        },
        "id": "PnWlAuBfH4PT",
        "outputId": "d9952145-14b1-4d4c-b05d-782ca96a6fd9"
      },
      "source": [
        "from sklearn.metrics.pairwise import cosine_similarity\n",
        "\n",
        "np.mean(cosine_similarity(np.array(doc_embeddings), doc_embeddings[1].reshape(1, -1)))"
      ],
      "execution_count": null,
      "outputs": [
        {
          "output_type": "execute_result",
          "data": {
            "text/plain": [
              "0.8448175728695124"
            ]
          },
          "metadata": {
            "tags": []
          },
          "execution_count": 107
        }
      ]
    },
    {
      "cell_type": "code",
      "metadata": {
        "id": "y62J6_trJpG1"
      },
      "source": [
        ""
      ],
      "execution_count": null,
      "outputs": []
    }
  ]
}